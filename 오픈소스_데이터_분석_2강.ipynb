{
  "cells": [
    {
      "cell_type": "markdown",
      "metadata": {
        "id": "view-in-github",
        "colab_type": "text"
      },
      "source": [
        "<a href=\"https://colab.research.google.com/github/hoyoungLee625/Data-Analysis-with-Open-Source/blob/main/%EC%98%A4%ED%94%88%EC%86%8C%EC%8A%A4_%EB%8D%B0%EC%9D%B4%ED%84%B0_%EB%B6%84%EC%84%9D_2%EA%B0%95.ipynb\" target=\"_parent\"><img src=\"https://colab.research.google.com/assets/colab-badge.svg\" alt=\"Open In Colab\"/></a>"
      ]
    },
    {
      "cell_type": "markdown",
      "metadata": {
        "id": "DkPKaAsoRq5Q"
      },
      "source": [
        "\n",
        "\n",
        "# 오픈소스 기반 데이터 분석 2강 - 데이터 분석을 위한 파이썬 1\n"
      ]
    },
    {
      "cell_type": "markdown",
      "metadata": {
        "id": "-I7BVVlnRrB0"
      },
      "source": [
        "## 2-1 리스트 슬라이싱"
      ]
    },
    {
      "cell_type": "code",
      "execution_count": null,
      "metadata": {
        "id": "2Y2HEiaiRwAI",
        "outputId": "60670b7c-3f71-4d94-d2e2-08a61c88a2f6",
        "colab": {
          "base_uri": "https://localhost:8080/"
        }
      },
      "outputs": [
        {
          "output_type": "stream",
          "name": "stdout",
          "text": [
            "[10, 20, 30, 40]\n",
            "[50, 60, 70]\n"
          ]
        }
      ],
      "source": [
        "numbers = [10, 20, 30, 40, 50, 60, 70]\n",
        "# 첫 4개의 원소 출력\n",
        "first_four = numbers [0 : 4]\n",
        "print(first_four)\n",
        "# 뒤 3개의 원소를 출력\n",
        "last_three = numbers [-3 : 7]\n",
        "print(last_three)"
      ]
    },
    {
      "cell_type": "code",
      "execution_count": null,
      "metadata": {
        "id": "IO8bsKekR0W_",
        "outputId": "a75e38ac-116a-4882-ea08-a92c292147e5",
        "colab": {
          "base_uri": "https://localhost:8080/"
        }
      },
      "outputs": [
        {
          "output_type": "stream",
          "name": "stdout",
          "text": [
            "[10, 30, 50, 70]\n",
            "[70, 60, 50, 40, 30, 20, 10]\n"
          ]
        }
      ],
      "source": [
        "numbers = [10, 20, 30, 40, 50, 60, 70]\n",
        "\n",
        "# 홀수번째 항목 출력\n",
        "every_other_list = numbers[: :2]\n",
        "print(every_other_list)\n",
        "\n",
        "# 역순 출력\n",
        "reverse_list = numbers[: :-1]\n",
        "print(reverse_list)"
      ]
    },
    {
      "cell_type": "code",
      "execution_count": null,
      "metadata": {
        "id": "60qOf7uxVdAg",
        "outputId": "2ca8c4bb-cd54-49f7-e69b-67d84af392f4",
        "colab": {
          "base_uri": "https://localhost:8080/"
        }
      },
      "outputs": [
        {
          "output_type": "stream",
          "name": "stdout",
          "text": [
            "[[1, 2, 3, 4], [5, 6, 7, 8]]\n",
            "[[1, 2], [5, 6], [9, 10], [13, 14]]\n"
          ]
        }
      ],
      "source": [
        "matrix = [\n",
        "    [1, 2, 3, 4],\n",
        "    [5, 6, 7, 8],\n",
        "    [9, 10, 11, 12],\n",
        "    [13, 14, 15, 16]\n",
        "]\n",
        "\n",
        "# 첫 두 행 출력\n",
        "first_two_rows = matrix[0:2]\n",
        "print(first_two_rows)\n",
        "\n",
        "# 첫 두 열 출력\n",
        "first_two_columns = [row[0:2] for row in matrix]\n",
        "\n",
        "print(first_two_columns)"
      ]
    },
    {
      "cell_type": "markdown",
      "metadata": {
        "id": "eOMufu5SXiAU"
      },
      "source": [
        "## 2-2 리스트 컴프리헨션"
      ]
    },
    {
      "cell_type": "code",
      "execution_count": null,
      "metadata": {
        "id": "JpmgdsW9V0CY",
        "outputId": "57876578-8703-4c90-956e-e7f7e77bd7c5",
        "colab": {
          "base_uri": "https://localhost:8080/"
        }
      },
      "outputs": [
        {
          "output_type": "stream",
          "name": "stdout",
          "text": [
            "[0, 1, 2, 3, 4]\n"
          ]
        }
      ],
      "source": [
        "numbers = [ ]\n",
        "\n",
        "# 0 ~ 4 포함 리스트 생성\n",
        "numbers = [num for num in range(5)]\n",
        "print(numbers)"
      ]
    },
    {
      "cell_type": "code",
      "execution_count": null,
      "metadata": {
        "id": "cRC8x3_iW0im",
        "outputId": "4ffceab4-0946-47be-8bda-60d367a42341",
        "colab": {
          "base_uri": "https://localhost:8080/"
        }
      },
      "outputs": [
        {
          "output_type": "stream",
          "name": "stdout",
          "text": [
            "[1, 4, 9, 16, 25]\n"
          ]
        }
      ],
      "source": [
        "numbers = [1, 2, 3, 4, 5]\n",
        "squares = [ ]\n",
        "\n",
        "# numbers의 모든 항목의 값을 제곱한 리스트\n",
        "squares = [num ** 2 for num in numbers ]\n",
        "\n",
        "print(squares)"
      ]
    },
    {
      "cell_type": "code",
      "execution_count": null,
      "metadata": {
        "id": "MAvimjk6Fqlc",
        "outputId": "ae23cafb-88fd-49e8-9c0d-2b02c27253fb",
        "colab": {
          "base_uri": "https://localhost:8080/"
        }
      },
      "outputs": [
        {
          "output_type": "stream",
          "name": "stdout",
          "text": [
            "[2, 4, 6, 8, 10]\n"
          ]
        }
      ],
      "source": [
        "numbers = [1, 2, 3, 4, 5, 6, 7, 8, 9, 10]\n",
        "even_numbers = [ ]\n",
        "\n",
        "# 짝수만 추출한 리스트\n",
        "even_numbers = [ num for num in numbers if num %2==0 ]\n",
        "print(even_numbers)"
      ]
    },
    {
      "cell_type": "code",
      "execution_count": null,
      "metadata": {
        "id": "HGO8XTxBFqld",
        "outputId": "e9c1a11f-81ee-4ba0-f195-8d74f3359e1d",
        "colab": {
          "base_uri": "https://localhost:8080/"
        }
      },
      "outputs": [
        {
          "output_type": "stream",
          "name": "stdout",
          "text": [
            "[('사과', '주스'), ('사과', '잼'), ('사과', '통조림'), ('복숭아', '주스'), ('복숭아', '잼'), ('복숭아', '통조림'), ('바나나', '주스'), ('바나나', '잼'), ('바나나', '통조림')]\n"
          ]
        }
      ],
      "source": [
        "list1 = ['사과', '복숭아', '바나나']\n",
        "list2 = ['주스', '잼', '통조림']\n",
        "pairs = [ ]\n",
        "\n",
        "# 두 리스트에 포함되 모든 원소를 조합한 투플의 리스트 생성\n",
        "pairs = [(fruit, product) for fruit in list1 for product in list2]\n",
        "\n",
        "print(pairs)"
      ]
    },
    {
      "cell_type": "code",
      "execution_count": null,
      "metadata": {
        "id": "K-BPhFTUFqle",
        "outputId": "635b32a0-ccd4-4071-d74f-ed13569989f3",
        "colab": {
          "base_uri": "https://localhost:8080/"
        }
      },
      "outputs": [
        {
          "output_type": "stream",
          "name": "stdout",
          "text": [
            "{0: 0, 1: 1, 2: 4, 3: 9, 4: 16}\n"
          ]
        }
      ],
      "source": [
        "squares = { }\n",
        "\n",
        "# 딕셔너리 생성\n",
        "for i in range(5):\n",
        "    squares[i] = i ** 2\n",
        "\n",
        "squares = {i: i**2 for i in range(5)}\n",
        "print(squares)"
      ]
    },
    {
      "cell_type": "code",
      "execution_count": null,
      "metadata": {
        "id": "UoTcC8-GFqlf",
        "outputId": "f03c1ebc-5a2f-4351-c778-af0b1bae73d2",
        "colab": {
          "base_uri": "https://localhost:8080/"
        }
      },
      "outputs": [
        {
          "output_type": "stream",
          "name": "stdout",
          "text": [
            "{'서울': 957, '부산': 339, '인천': 294, '대구': 242}\n",
            "{'부산': 339}\n"
          ]
        }
      ],
      "source": [
        "city_population = {\n",
        "    '서울': 957, '부산': 339, '인천': 294, '대구': 242, '광주': 145, '대전': 147,\n",
        "    '울산': 114, '세종': 36, '수원': 115, '창원': 103, '고양': 105, '용인': 108, '성남': 94\n",
        "}\n",
        "\n",
        "# 인구 200만명 이상의 도시 리스트\n",
        "large_cities = {city: pop for city, pop in city_population.items() if pop>=200 }\n",
        "print(large_cities)\n",
        "\n",
        "# 인구 300만 이상 및 이름에 '산'이 포함된 도시 리스트\n",
        "large_short_name_cities = {city: pop for city, pop in city_population.items() if pop >=300 and '산' in city}\n",
        "print(large_short_name_cities)"
      ]
    },
    {
      "cell_type": "markdown",
      "metadata": {
        "id": "njDOfr1LFqlf"
      },
      "source": [
        "## 2-3 문자열 형식화"
      ]
    },
    {
      "cell_type": "code",
      "execution_count": null,
      "metadata": {
        "id": "fzO0h6KfFqlg",
        "outputId": "0e108193-8a29-459b-a9bb-5c246ca6f0ab",
        "colab": {
          "base_uri": "https://localhost:8080/"
        }
      },
      "outputs": [
        {
          "output_type": "stream",
          "name": "stdout",
          "text": [
            "이름: 홍길동, 나이: 30, 월급: 3500000원\n",
            "직원: 홍길동, 나이: 30, 세후 월급: 3150000원\n",
            "직원: 홍길동, 나이: 30, 월급: 3500000원, 세금: 10%, 실수령액: 3150000원\n"
          ]
        }
      ],
      "source": [
        "name = '홍길동'\n",
        "age = 30\n",
        "salary = 3500000\n",
        "tax_rate = 0.1\n",
        "\n",
        "# C 스타일 문자열 포매팅\n",
        "# 이름, 나이, 월급 출력\n",
        "basic_format = '이름: %s, 나이: %d, 월급: %d원' % (name, age, salary)\n",
        "\n",
        "# 직원이름, 나이, 세후 월급 출력\n",
        "index_format = '직원: %s, 나이: %d, 세후 월급: %d원' % (name, age, int(salary*(1-tax_rate)))\n",
        "\n",
        "# 직원이름, 나이, 월급, 세금, 실수령액 추력\n",
        "keyword_format = '직원: %s, 나이: %d, 월급: %d원, 세금: %.0f%%, 실수령액: %d원' % (name, age, salary, tax_rate*100, int(salary*(1-tax_rate)))\n",
        "print(basic_format)\n",
        "print(index_format)\n",
        "print(keyword_format)"
      ]
    },
    {
      "cell_type": "code",
      "source": [
        "name = '홍길동'\n",
        "age = 30\n",
        "salary = 3500000\n",
        "tax_rate = 0.1\n",
        "\n",
        "# str.format 문자열 포매팅\n",
        "# 이름, 나이, 월급 출력\n",
        "basic_format = '이름: {0}, 나이: {1}, 월급: {2}원'.format(name, age, salary)\n",
        "# 직원이름, 나이, 세후 월급 출력\n",
        "index_format = '직원 {0} 나이는 {1}세이고, {0}의 세후 월급은 {2:,}원입니다.'.format(name, age, int(salary*(1-tax_rate)))\n",
        "# 직원이름, 나이, 월급, 세금, 실수령액 추력\n",
        "keyword_format = '직원정보: 이름: {employee} 나이: {years}세 월급: {income:,}원 세금: {tax:.1%} 실수령액: {net_income:,}원'.format(\n",
        "    employee = name, years = age, income = salary, tax = tax_rate, net_income = int(salary*(1-tax_rate)))\n",
        "\n",
        "print(basic_format)\n",
        "print(index_format)\n",
        "print(keyword_format)"
      ],
      "metadata": {
        "id": "cIvmmcQux_ph",
        "outputId": "44e82451-d9dc-4653-c39d-57ef4cb3a14f",
        "colab": {
          "base_uri": "https://localhost:8080/"
        }
      },
      "execution_count": null,
      "outputs": [
        {
          "output_type": "stream",
          "name": "stdout",
          "text": [
            "이름: 홍길동, 나이: 30, 월급: 3500000원\n",
            "직원 홍길동 나이는 30세이고, 홍길동의 세후 월급은 3,150,000원입니다.\n",
            "직원정보: 이름: 홍길동 나이: 30세 월급: 3,500,000원 세금: 10.0% 실수령액: 3,150,000원\n"
          ]
        }
      ]
    },
    {
      "cell_type": "code",
      "source": [
        "name = '홍길동'\n",
        "age = 30\n",
        "salary = 3500000\n",
        "tax_rate = 0.1\n",
        "\n",
        "# f-문자열 포매팅\n",
        "# 이름, 나이, 월급 출력\n",
        "basic_format = f'이름: {name}, 나이: {age}, 월급: {salary:,}원'\n",
        "\n",
        "# 직원이름, 나이, 세후 월급 출력\n",
        "index_format = f'이름: {name}, 나이: {age}, 세후 월급: {int(salary*(1-tax_rate)):,}원입니다'\n",
        "\n",
        "# 직원이름, 나이, 월급, 세금, 실수령액 추력\n",
        "keyword_format = f'이름: {name}, 나이: {age}, 월급: {salary}, 세금: {tax_rate*100}%, 실수령액: {salary*(1-tax_rate):,}원입니다'\n",
        "\n",
        "print(basic_format)\n",
        "print(index_format)\n",
        "print(keyword_format)"
      ],
      "metadata": {
        "id": "EIO3z-XQx_ce",
        "colab": {
          "base_uri": "https://localhost:8080/"
        },
        "outputId": "42c90094-6527-449c-cf8e-52b3d054ef01"
      },
      "execution_count": null,
      "outputs": [
        {
          "output_type": "stream",
          "name": "stdout",
          "text": [
            "이름: 홍길동, 나이: 30, 월급: 3,500,000원\n",
            "이름: 홍길동, 나이: 30, 세후 월급: 3,150,000원입니다\n",
            "이름: 홍길동, 나이: 30, 월급: 3500000, 세금: 10.0%, 실수령액: 3,150,000.0원입니다\n"
          ]
        }
      ]
    },
    {
      "cell_type": "markdown",
      "metadata": {
        "id": "6lnhCleJFqlg"
      },
      "source": [
        "## 2-4 컨텍스트 관리"
      ]
    },
    {
      "cell_type": "code",
      "execution_count": 6,
      "metadata": {
        "id": "eFpmQp3QFqlh"
      },
      "outputs": [],
      "source": [
        "# 파일 오픈 & 클로즈\n",
        "file = open('output.txt', 'w')\n",
        "file.write('Hello, world!\\n')\n",
        "file.close()"
      ]
    },
    {
      "cell_type": "code",
      "source": [
        "# 파일 오픈 & 클로즈\n",
        "with open('output.txt', 'w') as file_write:\n",
        "    file_write.write('Hello, world! \\n')"
      ],
      "metadata": {
        "id": "WlEXQJ6b_jFD"
      },
      "execution_count": 1,
      "outputs": []
    },
    {
      "cell_type": "code",
      "execution_count": 12,
      "metadata": {
        "id": "D0aOLti0Fqlh",
        "outputId": "602fa5a5-787e-45ca-ea34-c9f3c24bf3dd",
        "colab": {
          "base_uri": "https://localhost:8080/",
          "height": 221
        }
      },
      "outputs": [
        {
          "output_type": "error",
          "ename": "FileNotFoundError",
          "evalue": "[Errno 2] No such file or directory: 'input.txt'",
          "traceback": [
            "\u001b[0;31m---------------------------------------------------------------------------\u001b[0m",
            "\u001b[0;31mFileNotFoundError\u001b[0m                         Traceback (most recent call last)",
            "\u001b[0;32m/tmp/ipython-input-3027581196.py\u001b[0m in \u001b[0;36m<cell line: 0>\u001b[0;34m()\u001b[0m\n\u001b[1;32m      1\u001b[0m \u001b[0;31m# 복수개의 파일(읽기 & 쓰기) 관리\u001b[0m\u001b[0;34m\u001b[0m\u001b[0;34m\u001b[0m\u001b[0m\n\u001b[1;32m      2\u001b[0m \u001b[0;34m\u001b[0m\u001b[0m\n\u001b[0;32m----> 3\u001b[0;31m \u001b[0;32mwith\u001b[0m \u001b[0mopen\u001b[0m\u001b[0;34m(\u001b[0m\u001b[0;34m'input.txt'\u001b[0m\u001b[0;34m,\u001b[0m \u001b[0;34m'r'\u001b[0m\u001b[0;34m)\u001b[0m \u001b[0;32mas\u001b[0m \u001b[0min_file\u001b[0m\u001b[0;34m,\u001b[0m \u001b[0mopen\u001b[0m\u001b[0;34m(\u001b[0m\u001b[0;34m'output.txt'\u001b[0m\u001b[0;34m,\u001b[0m \u001b[0;34m'w'\u001b[0m\u001b[0;34m)\u001b[0m \u001b[0;32mas\u001b[0m \u001b[0moutput_file\u001b[0m\u001b[0;34m:\u001b[0m\u001b[0;34m\u001b[0m\u001b[0;34m\u001b[0m\u001b[0m\n\u001b[0m\u001b[1;32m      4\u001b[0m     \u001b[0;32mfor\u001b[0m \u001b[0mline\u001b[0m \u001b[0;32min\u001b[0m \u001b[0min_file\u001b[0m\u001b[0;34m:\u001b[0m\u001b[0;34m\u001b[0m\u001b[0;34m\u001b[0m\u001b[0m\n\u001b[1;32m      5\u001b[0m         \u001b[0mout_file\u001b[0m\u001b[0;34m.\u001b[0m\u001b[0mwrite\u001b[0m\u001b[0;34m(\u001b[0m\u001b[0mline\u001b[0m\u001b[0;34m.\u001b[0m\u001b[0mupper\u001b[0m\u001b[0;34m(\u001b[0m\u001b[0;34m)\u001b[0m\u001b[0;34m)\u001b[0m\u001b[0;34m\u001b[0m\u001b[0;34m\u001b[0m\u001b[0m\n",
            "\u001b[0;31mFileNotFoundError\u001b[0m: [Errno 2] No such file or directory: 'input.txt'"
          ]
        }
      ],
      "source": [
        "# 복수개의 파일(읽기 & 쓰기) 관리\n",
        "\n",
        "with open('input.txt', 'r') as in_file, open('output.txt', 'w') as output_file:\n",
        "    for line in in_file:\n",
        "        out_file.write(line.upper())\n",
        "#input.txt 파일이 없다?"
      ]
    },
    {
      "cell_type": "code",
      "execution_count": 5,
      "metadata": {
        "id": "6SE0rrD5Fqli",
        "outputId": "e4d74232-9916-4906-976f-db26c39eb907",
        "colab": {
          "base_uri": "https://localhost:8080/"
        }
      },
      "outputs": [
        {
          "output_type": "stream",
          "name": "stdout",
          "text": [
            "학번,이름,데이터베이스,파이썬,클라우드\n",
            "101,김철수,85,78,92\n",
            "102,이영희,76,82,78\n",
            "103,박지민,92,95,85\n",
            "104,최준서,63,70,75\n",
            "105,정미나,88,84,91\n",
            "\n"
          ]
        }
      ],
      "source": [
        "import urllib.request\n",
        "# URL 연결 관리\n",
        "with urllib.request.urlopen('https://raw.githubusercontent.com/jaehwachung/Data-Analysis-with-Open-Source/refs/heads/main/Chapter%203/students.csv') as response:\n",
        "    data = response.read( ).decode('utf-8')\n",
        "\n",
        "print(data)"
      ]
    }
  ],
  "metadata": {
    "colab": {
      "provenance": [],
      "include_colab_link": true
    },
    "kernelspec": {
      "display_name": "Python 3",
      "name": "python3"
    },
    "language_info": {
      "name": "python"
    }
  },
  "nbformat": 4,
  "nbformat_minor": 0
}