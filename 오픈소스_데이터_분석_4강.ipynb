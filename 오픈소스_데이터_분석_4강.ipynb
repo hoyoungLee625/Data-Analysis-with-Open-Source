{
  "nbformat": 4,
  "nbformat_minor": 0,
  "metadata": {
    "colab": {
      "provenance": [],
      "include_colab_link": true
    },
    "kernelspec": {
      "name": "python3",
      "display_name": "Python 3"
    },
    "language_info": {
      "name": "python"
    }
  },
  "cells": [
    {
      "cell_type": "markdown",
      "metadata": {
        "id": "view-in-github",
        "colab_type": "text"
      },
      "source": [
        "<a href=\"https://colab.research.google.com/github/hoyoungLee625/Data-Analysis-with-Open-Source/blob/main/%EC%98%A4%ED%94%88%EC%86%8C%EC%8A%A4_%EB%8D%B0%EC%9D%B4%ED%84%B0_%EB%B6%84%EC%84%9D_4%EA%B0%95.ipynb\" target=\"_parent\"><img src=\"https://colab.research.google.com/assets/colab-badge.svg\" alt=\"Open In Colab\"/></a>"
      ]
    },
    {
      "cell_type": "markdown",
      "source": [
        "\n",
        "\n",
        "# 오픈소스 기반 데이터 분석 4강 - 데이터 수집\n"
      ],
      "metadata": {
        "id": "DkPKaAsoRq5Q"
      }
    },
    {
      "cell_type": "code",
      "source": [
        "import pandas as pd\n",
        "import json\n",
        "\n",
        "# 데이터 로드\n",
        "with open(f'energy_use_data{year_month}.json', 'r', encoding='utf-8') as f:\n",
        "    json_text = f.read()\n",
        "\n",
        "json_data = json.loads(json_text)\n",
        "data = json_data['energyUseDataSummaryInfo']['row']\n",
        "df = pd.DataFrame(data)\n",
        "\n",
        "# ========== 데이터프레임 기본 정보 ==========\n",
        "\n",
        "# 1. 구조 정보 (가장 중요!)\n",
        "print(df.info())\n"
      ],
      "metadata": {
        "colab": {
          "base_uri": "https://localhost:8080/"
        },
        "id": "_mK5PQ7H0xH1",
        "outputId": "d9cc2396-bda4-4c08-a205-ae887937dce9"
      },
      "execution_count": null,
      "outputs": [
        {
          "output_type": "stream",
          "name": "stdout",
          "text": [
            "<class 'pandas.core.frame.DataFrame'>\n",
            "RangeIndex: 5 entries, 0 to 4\n",
            "Data columns (total 25 columns):\n",
            " #   Column    Non-Null Count  Dtype \n",
            "---  ------    --------------  ----- \n",
            " 0   YEAR      5 non-null      object\n",
            " 1   MON       5 non-null      object\n",
            " 2   MM_TYPE   5 non-null      object\n",
            " 3   CNT       5 non-null      object\n",
            " 4   EUS       5 non-null      object\n",
            " 5   EUS1      5 non-null      object\n",
            " 6   EUS2      5 non-null      object\n",
            " 7   ECO2_1    5 non-null      object\n",
            " 8   ECO2_2    5 non-null      object\n",
            " 9   GUS       5 non-null      object\n",
            " 10  GUS1      5 non-null      object\n",
            " 11  GUS2      5 non-null      object\n",
            " 12  GCO2_1    5 non-null      object\n",
            " 13  GCO2_2    5 non-null      object\n",
            " 14  WUS       5 non-null      object\n",
            " 15  WUS1      5 non-null      object\n",
            " 16  WUS2      5 non-null      object\n",
            " 17  WCO2_1    5 non-null      object\n",
            " 18  WCO2_2    5 non-null      object\n",
            " 19  HUS       5 non-null      object\n",
            " 20  HUS1      5 non-null      object\n",
            " 21  HUS2      5 non-null      object\n",
            " 22  HCO2_1    5 non-null      object\n",
            " 23  HCO2_2    5 non-null      object\n",
            " 24  REG_DATE  5 non-null      object\n",
            "dtypes: object(25)\n",
            "memory usage: 1.1+ KB\n",
            "None\n"
          ]
        }
      ]
    },
    {
      "cell_type": "code",
      "source": [
        "import pandas as pd\n",
        "import json\n",
        "import time\n",
        "df_list = []\n",
        "\n",
        "\n",
        "\n",
        "# 날짜 변환 및 year, season 컬럼 추가\n",
        "df['REG_DATE'] = pd.to_datetime(df['REG_DATE'])\n",
        "df['year'] = df['REG_DATE'].dt.year\n",
        "df['season'] = df['REG_DATE'].dt.month.map({\n",
        "    12: '겨울', 1: '겨울', 2: '겨울',\n",
        "    3: '봄', 4: '봄', 5: '봄',\n",
        "    6: '여름', 7: '여름', 8: '여름',\n",
        "    9: '가을', 10: '가을', 11: '가을'\n",
        "})\n",
        "\n",
        "# 결과 확인\n",
        "print(\"\\n전처리 결과:\")\n",
        "print(df[['REG_DATE', 'year', 'season']].head(10))\n",
        "print(f\"\\n연도별:\\n{df['year'].value_counts().sort_index()}\")\n",
        "print(f\"\\n계절별:\\n{df['season'].value_counts()}\")"
      ],
      "metadata": {
        "colab": {
          "base_uri": "https://localhost:8080/"
        },
        "id": "-Uv7UbCO5bSB",
        "outputId": "6e2001d8-0070-4bee-8339-273dbe13006c"
      },
      "execution_count": null,
      "outputs": [
        {
          "output_type": "stream",
          "name": "stdout",
          "text": [
            "\n",
            "전처리 결과:\n",
            "             REG_DATE  year season\n",
            "0 2015-06-04 17:03:55  2015     여름\n",
            "1 2015-06-04 17:03:55  2015     여름\n",
            "2 2015-06-04 17:03:55  2015     여름\n",
            "3 2015-06-04 17:03:55  2015     여름\n",
            "4 2015-06-04 17:03:55  2015     여름\n",
            "5 2015-06-04 17:03:55  2015     여름\n",
            "6 2015-06-04 17:03:55  2015     여름\n",
            "7 2015-06-04 17:03:55  2015     여름\n",
            "8 2015-06-04 17:03:55  2015     여름\n",
            "9 2015-06-04 17:03:55  2015     여름\n",
            "\n",
            "연도별:\n",
            "year\n",
            "2015    600\n",
            "Name: count, dtype: int64\n",
            "\n",
            "계절별:\n",
            "season\n",
            "여름    600\n",
            "Name: count, dtype: int64\n"
          ]
        }
      ]
    },
    {
      "cell_type": "code",
      "source": [
        "import pandas as pd\n",
        "import json\n",
        "\n",
        "df_list = []\n",
        "for year in range(2015, 2024+1):\n",
        "    for month in [f'{i:02d}' for i in range(1, 12+1)]:\n",
        "        with open(f\"energy_use_data{year} {month}.json\", 'r', encoding='utf-8') as f:\n",
        "            json_data = json.loads(f.read())\n",
        "            df_list.append(pd.DataFrame(json_data['energyUseDataSummaryInfo']['row']))\n",
        "\n",
        "df = pd.concat(df_list, ignore_index=True)\n",
        "\n",
        "df['REG_DATE'] = pd.to_datetime(df['REG_DATE'])\n",
        "df['year'] = df['REG_DATE'].dt.year\n",
        "df['season'] = df['REG_DATE'].dt.month.map({\n",
        "    12: '겨울', 1: '겨울', 2: '겨울',\n",
        "    3: '봄', 4: '봄', 5: '봄',\n",
        "    6: '여름', 7: '여름', 8: '여름',\n",
        "    9: '가을', 10: '가을', 11: '가을'\n",
        "})\n",
        "\n",
        "print(\"전체의 결과:\")\n",
        "print(df[['REG_DATE', 'year', 'season']].head(20))\n",
        "print(f\"\\n연 도별:\\n{df['year'].value_counts().sort_index()}\")\n",
        "print(f\"\\n계절별:\\n{df['season'].value_counts()}\")\n",
        "\n"
      ],
      "metadata": {
        "colab": {
          "base_uri": "https://localhost:8080/"
        },
        "id": "91971wdbHxop",
        "outputId": "52b8178b-03fa-4091-ef26-e2df7ea3ffc9"
      },
      "execution_count": null,
      "outputs": [
        {
          "output_type": "stream",
          "name": "stdout",
          "text": [
            "전체의 결과:\n",
            "              REG_DATE  year season\n",
            "0  2015-06-04 17:03:55  2015     여름\n",
            "1  2015-06-04 17:03:55  2015     여름\n",
            "2  2015-06-04 17:03:55  2015     여름\n",
            "3  2015-06-04 17:03:55  2015     여름\n",
            "4  2015-06-04 17:03:55  2015     여름\n",
            "5  2015-06-04 17:03:55  2015     여름\n",
            "6  2015-06-04 17:03:55  2015     여름\n",
            "7  2015-06-04 17:03:55  2015     여름\n",
            "8  2015-06-04 17:03:55  2015     여름\n",
            "9  2015-06-04 17:03:55  2015     여름\n",
            "10 2015-06-04 17:03:55  2015     여름\n",
            "11 2015-06-04 17:03:55  2015     여름\n",
            "12 2015-06-04 17:03:55  2015     여름\n",
            "13 2015-06-04 17:03:55  2015     여름\n",
            "14 2015-06-04 17:03:55  2015     여름\n",
            "15 2015-06-04 17:03:55  2015     여름\n",
            "16 2015-06-04 17:03:55  2015     여름\n",
            "17 2015-06-04 17:03:55  2015     여름\n",
            "18 2015-06-04 17:03:55  2015     여름\n",
            "19 2015-06-04 17:03:55  2015     여름\n",
            "\n",
            "연 도별:\n",
            "year\n",
            "2015    600\n",
            "Name: count, dtype: int64\n",
            "\n",
            "계절별:\n",
            "season\n",
            "여름    600\n",
            "Name: count, dtype: int64\n"
          ]
        }
      ]
    },
    {
      "cell_type": "code",
      "source": [
        "import pandas as pd\n",
        "import json\n",
        "\n",
        "df list= []\n",
        "\n",
        "# 2015년 1월부터 2024년 12월까지 반복\n",
        "for year in range(2015, 2024+1):\n",
        "    for month in range(1, 12+1):\n",
        "        year_month = f'{year}{month:02d}'\n",
        "\n",
        "        try:\n",
        "            with open(f'energy_use_data{year_month}.json', 'r', encoding='utf-8') as f:\n",
        "                json_text = f.read()\n",
        "\n",
        "            json_data = json.loads(json_text)\n",
        "            data = json_data['energyUseDataSummaryInfo']['row']\n",
        "            df = pd.DataFrame(data)\n",
        "            df.append(df)\n",
        "\n",
        "            print(f'{year_month} 데이터 로드 성공')\n",
        "        except FileNotFoundError:\n",
        "            print(f'{year_month} 파일 없음')\n",
        "\n",
        "# 모든 DataFrame 합치기\n",
        "df= pd.concat(df, ignore_index=True)\n",
        "print(f'\\n전체 데이터 크기: {len(df)}행')\n",
        "print(df.head)\n"
      ],
      "metadata": {
        "colab": {
          "base_uri": "https://localhost:8080/",
          "height": 1000
        },
        "id": "qJn0LAMGA22q",
        "outputId": "d1c1c488-b6e5-499a-f5cc-861c4c6ac18a"
      },
      "execution_count": null,
      "outputs": [
        {
          "output_type": "stream",
          "name": "stdout",
          "text": [
            "201501 파일 없음\n",
            "201502 파일 없음\n",
            "201503 파일 없음\n",
            "201504 파일 없음\n",
            "201505 파일 없음\n",
            "201506 파일 없음\n",
            "201507 파일 없음\n",
            "201508 파일 없음\n",
            "201509 파일 없음\n",
            "201510 파일 없음\n",
            "201511 파일 없음\n",
            "201512 파일 없음\n",
            "201601 파일 없음\n",
            "201602 파일 없음\n",
            "201603 파일 없음\n",
            "201604 파일 없음\n",
            "201605 파일 없음\n",
            "201606 파일 없음\n",
            "201607 파일 없음\n",
            "201608 파일 없음\n",
            "201609 파일 없음\n",
            "201610 파일 없음\n",
            "201611 파일 없음\n",
            "201612 파일 없음\n",
            "201701 파일 없음\n",
            "201702 파일 없음\n",
            "201703 파일 없음\n",
            "201704 파일 없음\n",
            "201705 파일 없음\n",
            "201706 파일 없음\n",
            "201707 파일 없음\n",
            "201708 파일 없음\n",
            "201709 파일 없음\n",
            "201710 파일 없음\n",
            "201711 파일 없음\n",
            "201712 파일 없음\n",
            "201801 파일 없음\n",
            "201802 파일 없음\n",
            "201803 파일 없음\n",
            "201804 파일 없음\n",
            "201805 파일 없음\n",
            "201806 파일 없음\n",
            "201807 파일 없음\n",
            "201808 파일 없음\n",
            "201809 파일 없음\n",
            "201810 파일 없음\n",
            "201811 파일 없음\n",
            "201812 파일 없음\n",
            "201901 파일 없음\n",
            "201902 파일 없음\n",
            "201903 파일 없음\n",
            "201904 파일 없음\n",
            "201905 파일 없음\n",
            "201906 파일 없음\n",
            "201907 파일 없음\n",
            "201908 파일 없음\n",
            "201909 파일 없음\n",
            "201910 파일 없음\n",
            "201911 파일 없음\n",
            "201912 파일 없음\n",
            "202001 파일 없음\n",
            "202002 파일 없음\n",
            "202003 파일 없음\n",
            "202004 파일 없음\n",
            "202005 파일 없음\n",
            "202006 파일 없음\n",
            "202007 파일 없음\n",
            "202008 파일 없음\n",
            "202009 파일 없음\n",
            "202010 파일 없음\n",
            "202011 파일 없음\n",
            "202012 파일 없음\n",
            "202101 파일 없음\n",
            "202102 파일 없음\n",
            "202103 파일 없음\n",
            "202104 파일 없음\n",
            "202105 파일 없음\n",
            "202106 파일 없음\n",
            "202107 파일 없음\n",
            "202108 파일 없음\n",
            "202109 파일 없음\n",
            "202110 파일 없음\n",
            "202111 파일 없음\n",
            "202112 파일 없음\n",
            "202201 파일 없음\n",
            "202202 파일 없음\n",
            "202203 파일 없음\n",
            "202204 파일 없음\n",
            "202205 파일 없음\n",
            "202206 파일 없음\n",
            "202207 파일 없음\n",
            "202208 파일 없음\n",
            "202209 파일 없음\n",
            "202210 파일 없음\n",
            "202211 파일 없음\n",
            "202212 파일 없음\n",
            "202301 파일 없음\n",
            "202302 파일 없음\n",
            "202303 파일 없음\n",
            "202304 파일 없음\n",
            "202305 파일 없음\n",
            "202306 파일 없음\n",
            "202307 파일 없음\n",
            "202308 파일 없음\n",
            "202309 파일 없음\n",
            "202310 파일 없음\n",
            "202311 파일 없음\n",
            "202312 파일 없음\n",
            "202401 파일 없음\n",
            "202402 파일 없음\n",
            "202403 파일 없음\n",
            "202404 파일 없음\n",
            "202405 파일 없음\n",
            "202406 파일 없음\n",
            "202407 파일 없음\n",
            "202408 파일 없음\n",
            "202409 파일 없음\n",
            "202410 파일 없음\n",
            "202411 파일 없음\n",
            "202412 파일 없음\n"
          ]
        },
        {
          "output_type": "error",
          "ename": "ValueError",
          "evalue": "No objects to concatenate",
          "traceback": [
            "\u001b[0;31m---------------------------------------------------------------------------\u001b[0m",
            "\u001b[0;31mValueError\u001b[0m                                Traceback (most recent call last)",
            "\u001b[0;32m/tmp/ipython-input-2556585947.py\u001b[0m in \u001b[0;36m<cell line: 0>\u001b[0;34m()\u001b[0m\n\u001b[1;32m     23\u001b[0m \u001b[0;34m\u001b[0m\u001b[0m\n\u001b[1;32m     24\u001b[0m \u001b[0;31m# 모든 DataFrame 합치기\u001b[0m\u001b[0;34m\u001b[0m\u001b[0;34m\u001b[0m\u001b[0m\n\u001b[0;32m---> 25\u001b[0;31m \u001b[0mdf\u001b[0m\u001b[0;34m=\u001b[0m \u001b[0mpd\u001b[0m\u001b[0;34m.\u001b[0m\u001b[0mconcat\u001b[0m\u001b[0;34m(\u001b[0m\u001b[0mdf\u001b[0m\u001b[0;34m,\u001b[0m \u001b[0mignore_index\u001b[0m\u001b[0;34m=\u001b[0m\u001b[0;32mTrue\u001b[0m\u001b[0;34m)\u001b[0m\u001b[0;34m\u001b[0m\u001b[0;34m\u001b[0m\u001b[0m\n\u001b[0m\u001b[1;32m     26\u001b[0m \u001b[0mprint\u001b[0m\u001b[0;34m(\u001b[0m\u001b[0;34mf'\\n전체 데이터 크기: {len(df)}행'\u001b[0m\u001b[0;34m)\u001b[0m\u001b[0;34m\u001b[0m\u001b[0;34m\u001b[0m\u001b[0m\n\u001b[1;32m     27\u001b[0m \u001b[0mprint\u001b[0m\u001b[0;34m(\u001b[0m\u001b[0mdf\u001b[0m\u001b[0;34m.\u001b[0m\u001b[0mhead\u001b[0m\u001b[0;34m)\u001b[0m\u001b[0;34m\u001b[0m\u001b[0;34m\u001b[0m\u001b[0m\n",
            "\u001b[0;32m/usr/local/lib/python3.12/dist-packages/pandas/core/reshape/concat.py\u001b[0m in \u001b[0;36mconcat\u001b[0;34m(objs, axis, join, ignore_index, keys, levels, names, verify_integrity, sort, copy)\u001b[0m\n\u001b[1;32m    380\u001b[0m         \u001b[0mcopy\u001b[0m \u001b[0;34m=\u001b[0m \u001b[0;32mFalse\u001b[0m\u001b[0;34m\u001b[0m\u001b[0;34m\u001b[0m\u001b[0m\n\u001b[1;32m    381\u001b[0m \u001b[0;34m\u001b[0m\u001b[0m\n\u001b[0;32m--> 382\u001b[0;31m     op = _Concatenator(\n\u001b[0m\u001b[1;32m    383\u001b[0m         \u001b[0mobjs\u001b[0m\u001b[0;34m,\u001b[0m\u001b[0;34m\u001b[0m\u001b[0;34m\u001b[0m\u001b[0m\n\u001b[1;32m    384\u001b[0m         \u001b[0maxis\u001b[0m\u001b[0;34m=\u001b[0m\u001b[0maxis\u001b[0m\u001b[0;34m,\u001b[0m\u001b[0;34m\u001b[0m\u001b[0;34m\u001b[0m\u001b[0m\n",
            "\u001b[0;32m/usr/local/lib/python3.12/dist-packages/pandas/core/reshape/concat.py\u001b[0m in \u001b[0;36m__init__\u001b[0;34m(self, objs, axis, join, keys, levels, names, ignore_index, verify_integrity, copy, sort)\u001b[0m\n\u001b[1;32m    443\u001b[0m         \u001b[0mself\u001b[0m\u001b[0;34m.\u001b[0m\u001b[0mcopy\u001b[0m \u001b[0;34m=\u001b[0m \u001b[0mcopy\u001b[0m\u001b[0;34m\u001b[0m\u001b[0;34m\u001b[0m\u001b[0m\n\u001b[1;32m    444\u001b[0m \u001b[0;34m\u001b[0m\u001b[0m\n\u001b[0;32m--> 445\u001b[0;31m         \u001b[0mobjs\u001b[0m\u001b[0;34m,\u001b[0m \u001b[0mkeys\u001b[0m \u001b[0;34m=\u001b[0m \u001b[0mself\u001b[0m\u001b[0;34m.\u001b[0m\u001b[0m_clean_keys_and_objs\u001b[0m\u001b[0;34m(\u001b[0m\u001b[0mobjs\u001b[0m\u001b[0;34m,\u001b[0m \u001b[0mkeys\u001b[0m\u001b[0;34m)\u001b[0m\u001b[0;34m\u001b[0m\u001b[0;34m\u001b[0m\u001b[0m\n\u001b[0m\u001b[1;32m    446\u001b[0m \u001b[0;34m\u001b[0m\u001b[0m\n\u001b[1;32m    447\u001b[0m         \u001b[0;31m# figure out what our result ndim is going to be\u001b[0m\u001b[0;34m\u001b[0m\u001b[0;34m\u001b[0m\u001b[0m\n",
            "\u001b[0;32m/usr/local/lib/python3.12/dist-packages/pandas/core/reshape/concat.py\u001b[0m in \u001b[0;36m_clean_keys_and_objs\u001b[0;34m(self, objs, keys)\u001b[0m\n\u001b[1;32m    505\u001b[0m \u001b[0;34m\u001b[0m\u001b[0m\n\u001b[1;32m    506\u001b[0m         \u001b[0;32mif\u001b[0m \u001b[0mlen\u001b[0m\u001b[0;34m(\u001b[0m\u001b[0mobjs_list\u001b[0m\u001b[0;34m)\u001b[0m \u001b[0;34m==\u001b[0m \u001b[0;36m0\u001b[0m\u001b[0;34m:\u001b[0m\u001b[0;34m\u001b[0m\u001b[0;34m\u001b[0m\u001b[0m\n\u001b[0;32m--> 507\u001b[0;31m             \u001b[0;32mraise\u001b[0m \u001b[0mValueError\u001b[0m\u001b[0;34m(\u001b[0m\u001b[0;34m\"No objects to concatenate\"\u001b[0m\u001b[0;34m)\u001b[0m\u001b[0;34m\u001b[0m\u001b[0;34m\u001b[0m\u001b[0m\n\u001b[0m\u001b[1;32m    508\u001b[0m \u001b[0;34m\u001b[0m\u001b[0m\n\u001b[1;32m    509\u001b[0m         \u001b[0;32mif\u001b[0m \u001b[0mkeys\u001b[0m \u001b[0;32mis\u001b[0m \u001b[0;32mNone\u001b[0m\u001b[0;34m:\u001b[0m\u001b[0;34m\u001b[0m\u001b[0;34m\u001b[0m\u001b[0m\n",
            "\u001b[0;31mValueError\u001b[0m: No objects to concatenate"
          ]
        }
      ]
    },
    {
      "cell_type": "code",
      "source": [
        "import requests\n",
        "\n",
        "url ='http://openapi.seoul.go.kr:8088/71774e424469746f39324e506c6e71/json/energyUseDataSummaryInfo/1/5/2015/01/'\n",
        "params = {\n",
        "\t'KEY': '71774e424469746f39324e506c6e71',\n",
        "\t'SERVICE': 'energyUseDataSummaryInfo',\n",
        "\t'TYPE': 'json',\n",
        "\t'START_INDEX': 1,\n",
        "\t'END_INDEX': 5,\n",
        "\t'year': 'year',\n",
        "\t'mon': 'month'\n",
        "}\n",
        "\n",
        "response = requests.get(url, params=params)\n",
        "\n",
        "if response.status_code == 200:\n",
        "    print('API 호출 성공')\n",
        "    print(response.json())\n",
        "else:\n",
        "    print(f'API 호출 실패: {response.status_code}')"
      ],
      "metadata": {
        "id": "Oe_i2-SqzBEk",
        "outputId": "d76294a0-7af0-438f-acc1-1bea6fa72e36",
        "colab": {
          "base_uri": "https://localhost:8080/"
        }
      },
      "execution_count": 2,
      "outputs": [
        {
          "output_type": "stream",
          "name": "stdout",
          "text": [
            "API 호출 성공\n",
            "{'energyUseDataSummaryInfo': {'list_total_count': 7, 'RESULT': {'CODE': 'INFO-000', 'MESSAGE': '정상 처리되었습니다'}, 'row': [{'YEAR': '2015', 'MON': '01', 'MM_TYPE': '개인', 'CNT': '767791', 'EUS': '193784708', 'EUS1': '194781915', 'EUS2': '204969429', 'ECO2_1': '-6090964', 'ECO2_2': '-2582568.736', 'GUS': '59133720', 'GUS1': '57163993', 'GUS2': '68297619', 'GCO2_1': '-3597086', 'GCO2_2': '-8057472.64', 'WUS': '12819757.886', 'WUS1': '12723680.426', 'WUS2': '12899476.73', 'WCO2_1': '8179.308', 'WCO2_2': '2715.530256', 'HUS': '22740838.937', 'HUS1': '23400055.303', 'HUS2': '27090493.875', 'HCO2_1': '-2504435.652', 'HCO2_2': '-33660084.213069', 'REG_DATE': '2015-06-04 17:03:55.0'}, {'YEAR': '2015', 'MON': '01', 'MM_TYPE': '학교', 'CNT': '1382', 'EUS': '134955565', 'EUS1': '128707423', 'EUS2': '145561511', 'ECO2_1': '-2178902', 'ECO2_2': '-923854.448', 'GUS': '9107197', 'GUS1': '8410968', 'GUS2': '10745416', 'GCO2_1': '-470995', 'GCO2_2': '-1055028.8', 'WUS': '2075819.2', 'WUS1': '2097433.8', 'WUS2': '2133200.8', 'WCO2_1': '-39498.1', 'WCO2_2': '-13113.3692', 'HUS': '0', 'HUS1': '0', 'HUS2': '0', 'HCO2_1': '0', 'HCO2_2': '0', 'REG_DATE': '2015-06-04 17:03:55.0'}, {'YEAR': '2015', 'MON': '01', 'MM_TYPE': '종교단체', 'CNT': '32', 'EUS': '372270', 'EUS1': '363376', 'EUS2': '411363', 'ECO2_1': '-15099.5', 'ECO2_2': '-6402.188', 'GUS': '53331', 'GUS1': '45727', 'GUS2': '63312', 'GCO2_1': '-1188.5', 'GCO2_2': '-2662.24', 'WUS': '5945', 'WUS1': '4548', 'WUS2': '4519', 'WCO2_1': '1411.5', 'WCO2_2': '468.618', 'HUS': '0', 'HUS1': '0', 'HUS2': '0', 'HCO2_1': '0', 'HCO2_2': '0', 'REG_DATE': '2015-06-04 17:03:55.0'}, {'YEAR': '2015', 'MON': '01', 'MM_TYPE': '소상공인', 'CNT': '2058', 'EUS': '10249618', 'EUS1': '9927610', 'EUS2': '11039593', 'ECO2_1': '-233983.5', 'ECO2_2': '-99209.004', 'GUS': '536119', 'GUS1': '523810', 'GUS2': '642921', 'GCO2_1': '-47246.5', 'GCO2_2': '-105832.16', 'WUS': '147273', 'WUS1': '146480.6', 'WUS2': '147325.6', 'WCO2_1': '369.9', 'WCO2_2': '122.8068', 'HUS': '0', 'HUS1': '0', 'HUS2': '0', 'HCO2_1': '0', 'HCO2_2': '0', 'REG_DATE': '2015-06-04 17:03:55.0'}, {'YEAR': '2015', 'MON': '01', 'MM_TYPE': '공동주택관리소', 'CNT': '1747', 'EUS': '327102096', 'EUS1': '329852334', 'EUS2': '351694752', 'ECO2_1': '-13671447', 'ECO2_2': '-5796693.528', 'GUS': '22834274', 'GUS1': '21141017', 'GUS2': '25338506', 'GCO2_1': '-405487.5', 'GCO2_2': '-908292', 'WUS': '12844807.5', 'WUS1': '12763070', 'WUS2': '12979835.8', 'WCO2_1': '-26645.4', 'WCO2_2': '-8846.2728', 'HUS': '0', 'HUS1': '0', 'HUS2': '0', 'HCO2_1': '0', 'HCO2_2': '0', 'REG_DATE': '2015-06-04 17:03:55.0'}]}}\n"
          ]
        }
      ]
    },
    {
      "cell_type": "code",
      "source": [
        "import requests\n",
        "import time\n",
        "import json\n",
        "import pandas as pd\n",
        "\n",
        "url='http://openapi.seoul.go.kr:8088/71774e424469746f39324e506c6e71/json/energyUseDataSummaryInfo/1/5/year/month'\n",
        "\n",
        "def get_year_months():\n",
        "    year_months = []\n",
        "    for year in range(2015, 2024):\n",
        "        for month in range(1, 12):\n",
        "            year_months.append(f'{year}{month:02d}')\n",
        "    return year_months\n",
        "\n",
        "response = requests.get(url)\n",
        "\n",
        "for year_month in get_year_months():\n",
        "\n",
        "    with open(f'energy_use_data{year_month}.json', 'w', encoding='utf-8') as f:\n",
        "        f.write(response.text)\n",
        "\n",
        "data= json.data()#['energyUseDataSummaryInfo']['row']\n",
        "df = pd.DataFrame(data)\n",
        "print(df.head)\n"
      ],
      "metadata": {
        "id": "03j1et_vv4n7",
        "outputId": "8f617056-0dbd-47f8-a734-45a66b3f2923",
        "colab": {
          "base_uri": "https://localhost:8080/",
          "height": 221
        }
      },
      "execution_count": 24,
      "outputs": [
        {
          "output_type": "error",
          "ename": "AttributeError",
          "evalue": "module 'json' has no attribute 'data'",
          "traceback": [
            "\u001b[0;31m---------------------------------------------------------------------------\u001b[0m",
            "\u001b[0;31mAttributeError\u001b[0m                            Traceback (most recent call last)",
            "\u001b[0;32m/tmp/ipython-input-1001232051.py\u001b[0m in \u001b[0;36m<cell line: 0>\u001b[0;34m()\u001b[0m\n\u001b[1;32m     20\u001b[0m         \u001b[0mf\u001b[0m\u001b[0;34m.\u001b[0m\u001b[0mwrite\u001b[0m\u001b[0;34m(\u001b[0m\u001b[0mresponse\u001b[0m\u001b[0;34m.\u001b[0m\u001b[0mtext\u001b[0m\u001b[0;34m)\u001b[0m\u001b[0;34m\u001b[0m\u001b[0;34m\u001b[0m\u001b[0m\n\u001b[1;32m     21\u001b[0m \u001b[0;34m\u001b[0m\u001b[0m\n\u001b[0;32m---> 22\u001b[0;31m \u001b[0mdata\u001b[0m\u001b[0;34m=\u001b[0m \u001b[0mjson\u001b[0m\u001b[0;34m.\u001b[0m\u001b[0mdata\u001b[0m\u001b[0;34m(\u001b[0m\u001b[0;34m)\u001b[0m\u001b[0;31m#['energyUseDataSummaryInfo']['row']\u001b[0m\u001b[0;34m\u001b[0m\u001b[0;34m\u001b[0m\u001b[0m\n\u001b[0m\u001b[1;32m     23\u001b[0m \u001b[0mdf\u001b[0m \u001b[0;34m=\u001b[0m \u001b[0mpd\u001b[0m\u001b[0;34m.\u001b[0m\u001b[0mDataFrame\u001b[0m\u001b[0;34m(\u001b[0m\u001b[0mdata\u001b[0m\u001b[0;34m)\u001b[0m\u001b[0;34m\u001b[0m\u001b[0;34m\u001b[0m\u001b[0m\n\u001b[1;32m     24\u001b[0m \u001b[0mprint\u001b[0m\u001b[0;34m(\u001b[0m\u001b[0mdf\u001b[0m\u001b[0;34m.\u001b[0m\u001b[0mhead\u001b[0m\u001b[0;34m)\u001b[0m\u001b[0;34m\u001b[0m\u001b[0;34m\u001b[0m\u001b[0m\n",
            "\u001b[0;31mAttributeError\u001b[0m: module 'json' has no attribute 'data'"
          ]
        }
      ]
    },
    {
      "cell_type": "markdown",
      "source": [
        "## 4-1 CSV 파일 읽기"
      ],
      "metadata": {
        "id": "-I7BVVlnRrB0"
      }
    },
    {
      "cell_type": "code",
      "source": [
        "import pandas as pd\n",
        "\n",
        "## data.csv 파일 읽기\n",
        "\n",
        "print(df)"
      ],
      "metadata": {
        "id": "2Y2HEiaiRwAI"
      },
      "execution_count": null,
      "outputs": []
    },
    {
      "cell_type": "code",
      "source": [
        "import pandas as pd\n",
        "import json\n",
        "import requests\n",
        "\n",
        "with open(f'energy_use_data{year_month}.json', 'r', encoding='utf-8') as f:\n",
        "    json_data = json.load(f)\n",
        "data = json_data['response'] ['body'] ['items']\n",
        "df = pd.DataFrame(data)\n",
        "print(df.head())"
      ],
      "metadata": {
        "id": "IY5QAYy2G8UZ",
        "outputId": "1b3a2fff-6453-4a46-881b-7003fbbcd11e",
        "colab": {
          "base_uri": "https://localhost:8080/",
          "height": 221
        }
      },
      "execution_count": null,
      "outputs": [
        {
          "output_type": "error",
          "ename": "FileNotFoundError",
          "evalue": "[Errno 2] No such file or directory: 'energy_use_data202412.json'",
          "traceback": [
            "\u001b[0;31m---------------------------------------------------------------------------\u001b[0m",
            "\u001b[0;31mFileNotFoundError\u001b[0m                         Traceback (most recent call last)",
            "\u001b[0;32m/tmp/ipython-input-3320791876.py\u001b[0m in \u001b[0;36m<cell line: 0>\u001b[0;34m()\u001b[0m\n\u001b[1;32m      3\u001b[0m \u001b[0;32mimport\u001b[0m \u001b[0mrequests\u001b[0m\u001b[0;34m\u001b[0m\u001b[0;34m\u001b[0m\u001b[0m\n\u001b[1;32m      4\u001b[0m \u001b[0;34m\u001b[0m\u001b[0m\n\u001b[0;32m----> 5\u001b[0;31m \u001b[0;32mwith\u001b[0m \u001b[0mopen\u001b[0m\u001b[0;34m(\u001b[0m\u001b[0;34mf'energy_use_data{year_month}.json'\u001b[0m\u001b[0;34m,\u001b[0m \u001b[0;34m'r'\u001b[0m\u001b[0;34m,\u001b[0m \u001b[0mencoding\u001b[0m\u001b[0;34m=\u001b[0m\u001b[0;34m'utf-8'\u001b[0m\u001b[0;34m)\u001b[0m \u001b[0;32mas\u001b[0m \u001b[0mf\u001b[0m\u001b[0;34m:\u001b[0m\u001b[0;34m\u001b[0m\u001b[0;34m\u001b[0m\u001b[0m\n\u001b[0m\u001b[1;32m      6\u001b[0m     \u001b[0mjson_data\u001b[0m \u001b[0;34m=\u001b[0m \u001b[0mjson\u001b[0m\u001b[0;34m.\u001b[0m\u001b[0mload\u001b[0m\u001b[0;34m(\u001b[0m\u001b[0mf\u001b[0m\u001b[0;34m)\u001b[0m\u001b[0;34m\u001b[0m\u001b[0;34m\u001b[0m\u001b[0m\n\u001b[1;32m      7\u001b[0m \u001b[0mdata\u001b[0m \u001b[0;34m=\u001b[0m \u001b[0mjson_data\u001b[0m\u001b[0;34m[\u001b[0m\u001b[0;34m'response'\u001b[0m\u001b[0;34m]\u001b[0m \u001b[0;34m[\u001b[0m\u001b[0;34m'body'\u001b[0m\u001b[0;34m]\u001b[0m \u001b[0;34m[\u001b[0m\u001b[0;34m'items'\u001b[0m\u001b[0;34m]\u001b[0m\u001b[0;34m\u001b[0m\u001b[0;34m\u001b[0m\u001b[0m\n",
            "\u001b[0;31mFileNotFoundError\u001b[0m: [Errno 2] No such file or directory: 'energy_use_data202412.json'"
          ]
        }
      ]
    },
    {
      "cell_type": "code",
      "source": [
        "import pandas as pd\n",
        "import json\n",
        "\n",
        "with open(f'energy_use_data{year_month}.json','r', encoding ='utf-8') as f:\n",
        "    json_text=f.read()\n",
        "\n",
        "json_data= json.loads (json_text)\n",
        "\n",
        "data = json_data['energyUseDataSummaryInfo']['row']\n",
        "\n",
        "df =pd.DataFrame(data)\n",
        "print(df.head())"
      ],
      "metadata": {
        "id": "RFUyYKs1OcQa",
        "outputId": "c54b5fbc-a47b-4bfc-9599-1d751dd93b23",
        "colab": {
          "base_uri": "https://localhost:8080/"
        }
      },
      "execution_count": 16,
      "outputs": [
        {
          "output_type": "stream",
          "name": "stdout",
          "text": [
            "   YEAR MON  MM_TYPE      CNT        EUS       EUS1       EUS2      ECO2_1  \\\n",
            "0  2025  06       개인  1269454  278745288  275851011  273151435     4244065   \n",
            "1  2025  06       학교     6745  117808793  114793127  114623246   3100606.5   \n",
            "2  2025  06  공동주택관리소     3729  498863841  496003195  488758810   6482838.5   \n",
            "3  2025  06     종교단체      849    6205342    6171454    6094109     72560.5   \n",
            "4  2025  06     소상공인    53274   96254029   98122772   98464917  -2039815.5   \n",
            "\n",
            "        ECO2_2       GUS  ...        WUS1        WUS2     WCO2_1       WCO2_2  \\\n",
            "0  2076623.656  13084768  ...  15166284.8  15371662.2  -341289.9  -611822.446   \n",
            "1  3096973.668   2093441  ...   1914804.2   1956560.2    -111344  -333633.134   \n",
            "2    6482838.5   2853437  ...  20616193.4  20794568.4  -297568.2    -892704.6   \n",
            "3      72560.5    139336  ...       51779       49094     1791.5       5374.5   \n",
            "4  -2043866.22   1638563  ...   1541313.8   1576869.2   -32353.7   -97437.288   \n",
            "\n",
            "         HUS        HUS1        HUS2    HCO2_1           HCO2_2  \\\n",
            "0  379182.22  368839.049  389847.167  -160.888  -22448.67848156   \n",
            "1       8.03        8.03        8.03         0                0   \n",
            "2          0           0           0         0                0   \n",
            "3          0           0           0         0                0   \n",
            "4          2           2           2         0                0   \n",
            "\n",
            "                REG_DATE  \n",
            "0  2025-09-01 04:02:15.0  \n",
            "1  2025-09-01 04:02:15.0  \n",
            "2  2025-09-01 04:02:15.0  \n",
            "3  2025-09-01 04:02:15.0  \n",
            "4  2025-09-01 04:02:15.0  \n",
            "\n",
            "[5 rows x 25 columns]\n"
          ]
        }
      ]
    },
    {
      "cell_type": "code",
      "source": [
        "import pandas as pd\n",
        "import json\n",
        "\n",
        "df_list = []  # 각 DataFrame을 저장할 리스트\n",
        "\n",
        "# 2015년 1월부터 2024년 12월까지 반복\n",
        "for year in range(2015, 2024+1):\n",
        "    for month in range(1, 12+1):\n",
        "        year_month = f'{year}{month:02d}'\n",
        "\n",
        "        try:\n",
        "            with open(f'energy_use_data{year_month}.json', 'r', encoding='utf-8') as f:\n",
        "                json_text = f.read()\n",
        "\n",
        "            json_data = json.loads(json_text)\n",
        "            data = json_data['energyUseDataSummaryInfo']['row']\n",
        "            df = pd.DataFrame(data)\n",
        "            df_list.append(df)\n",
        "\n",
        "            print(f'{year_month} 데이터 로드 성공')\n",
        "        except FileNotFoundError:\n",
        "            print(f'{year_month} 파일 없음')"
      ],
      "metadata": {
        "id": "5nOtx7cLQCvm",
        "outputId": "5754df99-f79b-4c00-96bf-cdab2332d0e5",
        "colab": {
          "base_uri": "https://localhost:8080/"
        }
      },
      "execution_count": 18,
      "outputs": [
        {
          "output_type": "stream",
          "name": "stdout",
          "text": [
            "201501 데이터 로드 성공\n",
            "201502 데이터 로드 성공\n",
            "201503 데이터 로드 성공\n",
            "201504 데이터 로드 성공\n",
            "201505 데이터 로드 성공\n",
            "201506 데이터 로드 성공\n",
            "201507 데이터 로드 성공\n",
            "201508 데이터 로드 성공\n",
            "201509 데이터 로드 성공\n",
            "201510 데이터 로드 성공\n",
            "201511 데이터 로드 성공\n",
            "201512 데이터 로드 성공\n",
            "201601 데이터 로드 성공\n",
            "201602 데이터 로드 성공\n",
            "201603 데이터 로드 성공\n",
            "201604 데이터 로드 성공\n",
            "201605 데이터 로드 성공\n",
            "201606 데이터 로드 성공\n",
            "201607 데이터 로드 성공\n",
            "201608 데이터 로드 성공\n",
            "201609 데이터 로드 성공\n",
            "201610 데이터 로드 성공\n",
            "201611 데이터 로드 성공\n",
            "201612 데이터 로드 성공\n",
            "201701 데이터 로드 성공\n",
            "201702 데이터 로드 성공\n",
            "201703 데이터 로드 성공\n",
            "201704 데이터 로드 성공\n",
            "201705 데이터 로드 성공\n",
            "201706 데이터 로드 성공\n",
            "201707 데이터 로드 성공\n",
            "201708 데이터 로드 성공\n",
            "201709 데이터 로드 성공\n",
            "201710 데이터 로드 성공\n",
            "201711 데이터 로드 성공\n",
            "201712 데이터 로드 성공\n",
            "201801 데이터 로드 성공\n",
            "201802 데이터 로드 성공\n",
            "201803 데이터 로드 성공\n",
            "201804 데이터 로드 성공\n",
            "201805 데이터 로드 성공\n",
            "201806 데이터 로드 성공\n",
            "201807 데이터 로드 성공\n",
            "201808 데이터 로드 성공\n",
            "201809 데이터 로드 성공\n",
            "201810 데이터 로드 성공\n",
            "201811 데이터 로드 성공\n",
            "201812 데이터 로드 성공\n",
            "201901 데이터 로드 성공\n",
            "201902 데이터 로드 성공\n",
            "201903 데이터 로드 성공\n",
            "201904 데이터 로드 성공\n",
            "201905 데이터 로드 성공\n",
            "201906 데이터 로드 성공\n",
            "201907 데이터 로드 성공\n",
            "201908 데이터 로드 성공\n",
            "201909 데이터 로드 성공\n",
            "201910 데이터 로드 성공\n",
            "201911 데이터 로드 성공\n",
            "201912 데이터 로드 성공\n",
            "202001 데이터 로드 성공\n",
            "202002 데이터 로드 성공\n",
            "202003 데이터 로드 성공\n",
            "202004 데이터 로드 성공\n",
            "202005 데이터 로드 성공\n",
            "202006 데이터 로드 성공\n",
            "202007 데이터 로드 성공\n",
            "202008 데이터 로드 성공\n",
            "202009 데이터 로드 성공\n",
            "202010 데이터 로드 성공\n",
            "202011 데이터 로드 성공\n",
            "202012 데이터 로드 성공\n",
            "202101 데이터 로드 성공\n",
            "202102 데이터 로드 성공\n",
            "202103 데이터 로드 성공\n",
            "202104 데이터 로드 성공\n",
            "202105 데이터 로드 성공\n",
            "202106 데이터 로드 성공\n",
            "202107 데이터 로드 성공\n",
            "202108 데이터 로드 성공\n",
            "202109 데이터 로드 성공\n",
            "202110 데이터 로드 성공\n",
            "202111 데이터 로드 성공\n",
            "202112 데이터 로드 성공\n",
            "202201 데이터 로드 성공\n",
            "202202 데이터 로드 성공\n",
            "202203 데이터 로드 성공\n",
            "202204 데이터 로드 성공\n",
            "202205 데이터 로드 성공\n",
            "202206 데이터 로드 성공\n",
            "202207 데이터 로드 성공\n",
            "202208 데이터 로드 성공\n",
            "202209 데이터 로드 성공\n",
            "202210 데이터 로드 성공\n",
            "202211 데이터 로드 성공\n",
            "202212 데이터 로드 성공\n",
            "202301 데이터 로드 성공\n",
            "202302 데이터 로드 성공\n",
            "202303 데이터 로드 성공\n",
            "202304 데이터 로드 성공\n",
            "202305 데이터 로드 성공\n",
            "202306 데이터 로드 성공\n",
            "202307 데이터 로드 성공\n",
            "202308 데이터 로드 성공\n",
            "202309 데이터 로드 성공\n",
            "202310 데이터 로드 성공\n",
            "202311 데이터 로드 성공\n",
            "202312 데이터 로드 성공\n",
            "202401 데이터 로드 성공\n",
            "202402 데이터 로드 성공\n",
            "202403 데이터 로드 성공\n",
            "202404 데이터 로드 성공\n",
            "202405 데이터 로드 성공\n",
            "202406 데이터 로드 성공\n",
            "202407 데이터 로드 성공\n",
            "202408 데이터 로드 성공\n",
            "202409 데이터 로드 성공\n",
            "202410 데이터 로드 성공\n",
            "202411 데이터 로드 성공\n",
            "202412 데이터 로드 성공\n"
          ]
        }
      ]
    },
    {
      "cell_type": "markdown",
      "source": [
        "## 4-2 JSON 파일 읽기\n",
        "\n"
      ],
      "metadata": {
        "id": "9kHCFaGlRrE0"
      }
    },
    {
      "cell_type": "code",
      "source": [
        "import json\n",
        "import pandas as pd\n",
        "\n",
        "## data.json 파일 출력\n",
        "\n",
        "## data.json 파일 DataFrame 읽기\n",
        "\n",
        "print(df)"
      ],
      "metadata": {
        "id": "IO8bsKekR0W_"
      },
      "execution_count": null,
      "outputs": []
    },
    {
      "cell_type": "markdown",
      "source": [
        "## 4-3 텍스트 파일 읽기 및 데이터 추출"
      ],
      "metadata": {
        "id": "uLd_3A_IRrHG"
      }
    },
    {
      "cell_type": "code",
      "source": [
        "import re\n",
        "\n",
        "## 파일(callcenter20250301.log) 오픈 및 읽기\n",
        "with open('callcenter20250301.log', 'r', encoding='utf-8') as f:\n",
        "    content = f.read()\n",
        "## 주민등록번호 패턴 생성\n",
        "\n",
        "## 주민등록번호 마스킹\n",
        "\n",
        "\n",
        "## 마스킹된 파일(callcenter20250301_masked.log) 오픈 및 쓰기\n",
        "\n",
        "\n",
        "print(\"주민등록번호 마스킹 완료. 'callcenter20250301_masked.log.txt' 파일로 저장되었습니다.\")"
      ],
      "metadata": {
        "id": "60qOf7uxVdAg"
      },
      "execution_count": null,
      "outputs": []
    },
    {
      "cell_type": "markdown",
      "source": [
        "## 4-4 Open-Meteo의 무료 날씨 API를 통한 특정 지역 온도 조회"
      ],
      "metadata": {
        "id": "eOMufu5SXiAU"
      }
    },
    {
      "cell_type": "code",
      "source": [
        "import requests\n",
        "import json\n",
        "\n",
        "url = \"https://api.open-meteo.com/v1/forecast?=&=&current=temperature_2m\"\n",
        "params = {\n",
        "    \"latitude\": \"37.58638333\",\n",
        "    \"longitude\": \"127.0203333\",\n",
        "    \"current\": \"temperature_2m\"\n",
        "}\n",
        "\n",
        "try:\n",
        "    ## URL 및 파라미터 전송\n",
        "\n",
        "    ## JSON 데이터 읽기\n",
        "\n",
        "    print(\"API 응답:\", data)\n",
        "    print(\"서울시 종로구의 현재 온도는 : {0}{1} 입니다.\".format(data['current']['temperature_2m'], data['current_units']['temperature_2m']))\n",
        "\n",
        "except requests.exceptions.RequestException as e:\n",
        "    print(f\"API 호출 실패: {e}\")\n",
        "except json.JSONDecodeError as e:\n",
        "    print(f\"JSON 파싱 실패: {e}\")"
      ],
      "metadata": {
        "id": "JpmgdsW9V0CY"
      },
      "execution_count": null,
      "outputs": []
    },
    {
      "cell_type": "markdown",
      "source": [
        "## 4-5 Selenium과 lxml을 이용한 웹 스크래핑"
      ],
      "metadata": {
        "id": "RLfPaa1ZiqIC"
      }
    },
    {
      "cell_type": "code",
      "source": [
        "!curl -o google-chrome-stable_current_amd64.deb https://dl.google.com/linux/direct/google-chrome-stable_current_amd64.deb\n",
        "!apt install ./google-chrome-stable_current_amd64.deb -y\n",
        "!pip install selenium webdriver_manager"
      ],
      "metadata": {
        "id": "79dmM7MNk8pB"
      },
      "execution_count": null,
      "outputs": []
    },
    {
      "cell_type": "code",
      "source": [
        "from selenium import webdriver\n",
        "from selenium.webdriver.chrome.service import Service as ChromeService\n",
        "from webdriver_manager.chrome import ChromeDriverManager\n",
        "from selenium.webdriver.common.by import By\n",
        "from lxml import html\n",
        "import time\n",
        "\n",
        "chrome_options = webdriver.ChromeOptions()\n",
        "chrome_options.add_argument('--headless')               # 브라우저 창 없이 실행\n",
        "chrome_options.add_argument('--no-sandbox')             # 보안모드 비활성화 (Colab 필수)\n",
        "chrome_options.add_argument('--disable-dev-shm-usage')  # 메모리 부족 방지 (Colab 필수)\n",
        "chrome_options.add_argument('--window-size=1920x1080')  # 창 크기 설정(가상)\n",
        "chrome_options.add_argument('--disable-gpu')            # GPU 가속 비활성화 (일부 환경 안정성)\n",
        "chrome_options.binary_location = \"/usr/bin/google-chrome-stable\"  # Colab용 크롬 경로 지정\n",
        "\n",
        "## 드라이버 실행\n",
        "driver = webdriver.Chrome(options=chrome_options)\n",
        "\n",
        "## 사이트 접속\n",
        "\n",
        "\n",
        "## 사이트 접속 대기\n",
        "\n",
        "\n",
        "## 페이지 제목 출력\n",
        "\n",
        "\n",
        "## 드라이버 종료\n",
        "driver.quit()"
      ],
      "metadata": {
        "id": "cRC8x3_iW0im"
      },
      "execution_count": null,
      "outputs": []
    },
    {
      "cell_type": "markdown",
      "source": [
        "\n",
        "# 실습 시나리오"
      ],
      "metadata": {
        "id": "Bu6OMZyGirOq"
      }
    },
    {
      "cell_type": "markdown",
      "source": [
        "## 공공데이터 포털 가입 및 데이터 신청\n",
        "\n",
        "- [https://www.data.go.kr](https://www.data.go.kr)\n",
        "- 한국환경공단 에어코리아 대기오염정보 데이터 신청"
      ],
      "metadata": {
        "id": "nsuqRN9RkZlW"
      }
    },
    {
      "cell_type": "code",
      "source": [
        "import requests\n",
        "\n",
        "## 데이터 수집 url 및 api key 설정\n",
        "\n",
        "\n",
        "params = {\n",
        "    'serviceKey': api_key,\n",
        "    'returnType': 'json',\n",
        "    'numOfRows': '100',\n",
        "    'pageNo': '1',\n",
        "    'sidoName': '서울',\n",
        "    'ver': '1.0'\n",
        "}\n",
        "\n",
        "## 데이터 수집\n",
        "\n",
        "## 호출 성공/실패 출력\n",
        "\n"
      ],
      "metadata": {
        "id": "7yCozmQeXJcO"
      },
      "execution_count": null,
      "outputs": []
    }
  ]
}