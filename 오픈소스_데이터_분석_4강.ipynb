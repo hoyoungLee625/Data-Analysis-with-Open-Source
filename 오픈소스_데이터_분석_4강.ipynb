{
  "nbformat": 4,
  "nbformat_minor": 0,
  "metadata": {
    "colab": {
      "provenance": [],
      "include_colab_link": true
    },
    "kernelspec": {
      "name": "python3",
      "display_name": "Python 3"
    },
    "language_info": {
      "name": "python"
    }
  },
  "cells": [
    {
      "cell_type": "markdown",
      "metadata": {
        "id": "view-in-github",
        "colab_type": "text"
      },
      "source": [
        "<a href=\"https://colab.research.google.com/github/hoyoungLee625/Data-Analysis-with-Open-Source/blob/main/%EC%98%A4%ED%94%88%EC%86%8C%EC%8A%A4_%EB%8D%B0%EC%9D%B4%ED%84%B0_%EB%B6%84%EC%84%9D_4%EA%B0%95.ipynb\" target=\"_parent\"><img src=\"https://colab.research.google.com/assets/colab-badge.svg\" alt=\"Open In Colab\"/></a>"
      ]
    },
    {
      "cell_type": "markdown",
      "source": [
        "\n",
        "\n",
        "# 오픈소스 기반 데이터 분석 4강 - 데이터 수집\n"
      ],
      "metadata": {
        "id": "DkPKaAsoRq5Q"
      }
    },
    {
      "cell_type": "code",
      "source": [
        "import requests\n",
        "\n",
        "url ='http://openapi.seoul.go.kr:8088/71774e424469746f39324e506c6e71/json/energyUseDataSummaryInfo/1/5/2025/01/'\n",
        "params = {\n",
        "\t'KEY': '71774e424469746f39324e506c6e71',\n",
        "\t'SERVICE': 'energyUseDataSummaryInfo',\n",
        "\t'TYPE': 'json',\n",
        "\t'START_INDEX': 1,\n",
        "\t'END_INDEX': 5\n",
        "}\n",
        "\n",
        "response = requests.get(url, params=params)\n",
        "\n",
        "if response.status_code == 200:\n",
        "    print('API 호출 성공')\n",
        "    print(response.json())\n",
        "else:\n",
        "    print(f'API 호출 실패: {response.status_code}')"
      ],
      "metadata": {
        "id": "Oe_i2-SqzBEk",
        "outputId": "36105aef-84b7-4be1-bb78-df884c92d74d",
        "colab": {
          "base_uri": "https://localhost:8080/"
        }
      },
      "execution_count": null,
      "outputs": [
        {
          "output_type": "stream",
          "name": "stdout",
          "text": [
            "API 호출 성공\n",
            "{'energyUseDataSummaryInfo': {'list_total_count': 7, 'RESULT': {'CODE': 'INFO-000', 'MESSAGE': '정상 처리되었습니다'}, 'row': [{'YEAR': '2025', 'MON': '01', 'MM_TYPE': '개인', 'CNT': '1254911', 'EUS': '293836031', 'EUS1': '294950734', 'EUS2': '299856505', 'ECO2_1': '-3567588.5', 'ECO2_2': '-3390415.508', 'GUS': '64743317', 'GUS1': '65640270', 'GUS2': '70129681', 'GCO2_1': '-3112082', 'GCO2_2': '-6224164', 'WUS': '14290250.9', 'WUS1': '14349702.2', 'WUS2': '14658723.9', 'WCO2_1': '-213962.15', 'WCO2_2': '-343069.116', 'HUS': '26079633.15', 'HUS1': '26915271.488', 'HUS2': '28567284.736', 'HCO2_1': '-1661644.962', 'HCO2_2': '-1825469.852831888', 'REG_DATE': '2025-04-01 04:02:46.0'}, {'YEAR': '2025', 'MON': '01', 'MM_TYPE': '공공기관', 'CNT': '2458', 'EUS': '159137367', 'EUS1': '161224118', 'EUS2': '165177059', 'ECO2_1': '-4063221.5', 'ECO2_2': '-4063221.5', 'GUS': '5245062', 'GUS1': '6339106', 'GUS2': '6122197', 'GCO2_1': '-985669.5', 'GCO2_2': '-1971339', 'WUS': '1109496.9', 'WUS1': '1067063.3', 'WUS2': '1048332.2', 'WCO2_1': '51799.15', 'WCO2_2': '155397.45', 'HUS': '0', 'HUS1': '0', 'HUS2': '0', 'HCO2_1': '0', 'HCO2_2': '0', 'REG_DATE': '2025-04-01 04:02:46.0'}, {'YEAR': '2025', 'MON': '01', 'MM_TYPE': '공동주택관리소', 'CNT': '3717', 'EUS': '549306970', 'EUS1': '553171963', 'EUS2': '562732975', 'ECO2_1': '-8645499', 'ECO2_2': '-8645499', 'GUS': '12897492', 'GUS1': '13018588', 'GUS2': '14635031', 'GCO2_1': '-929317.5', 'GCO2_2': '-1858635', 'WUS': '19747538.2', 'WUS1': '19813169.6', 'WUS2': '19835823.1', 'WCO2_1': '-76958.15', 'WCO2_2': '-230874.45', 'HUS': '0', 'HUS1': '0', 'HUS2': '0', 'HCO2_1': '0', 'HCO2_2': '0', 'REG_DATE': '2025-04-01 04:02:46.0'}, {'YEAR': '2025', 'MON': '01', 'MM_TYPE': '종교단체', 'CNT': '849', 'EUS': '9663487', 'EUS1': '9820536', 'EUS2': '10044709', 'ECO2_1': '-269135.5', 'ECO2_2': '-269135.5', 'GUS': '538785', 'GUS1': '574357', 'GUS2': '665228', 'GCO2_1': '-80898', 'GCO2_2': '-161796', 'WUS': '45011', 'WUS1': '44737', 'WUS2': '44089', 'WCO2_1': '598', 'WCO2_2': '1794', 'HUS': '0', 'HUS1': '0', 'HUS2': '0', 'HCO2_1': '0', 'HCO2_2': '0', 'REG_DATE': '2025-04-01 04:02:46.0'}, {'YEAR': '2025', 'MON': '01', 'MM_TYPE': '기업', 'CNT': '19458', 'EUS': '624104890', 'EUS1': '643139445', 'EUS2': '659133378', 'ECO2_1': '-27031521.5', 'ECO2_2': '-27031521.5', 'GUS': '58727315', 'GUS1': '59074550', 'GUS2': '57721631', 'GCO2_1': '342601', 'GCO2_2': '685202', 'WUS': '4215302.2', 'WUS1': '4177674.4', 'WUS2': '4187370.8', 'WCO2_1': '32779.6', 'WCO2_2': '98338.8', 'HUS': '0', 'HUS1': '0', 'HUS2': '0', 'HCO2_1': '0', 'HCO2_2': '0', 'REG_DATE': '2025-04-01 04:02:46.0'}]}}\n"
          ]
        }
      ]
    },
    {
      "cell_type": "code",
      "source": [
        "import requests\n",
        "import time\n",
        "import json\n",
        "\n",
        "url='http://openapi.seoul.go.kr:8088/71774e424469746f39324e506c6e71/json/energyUseDataSummaryInfo/1/5/2025/01/'\n",
        "\n",
        "def get_year_months():\n",
        "    year_months = []\n",
        "    for year in range(2015, 2024+1):\n",
        "        for month in range(1, 12+1):\n",
        "            year_months.append(f'{year} {month:02d}')\n",
        "    return year_months\n",
        "\n",
        "\n",
        "response = requests.get(url)\n",
        "\n",
        "for year_month in get_year_months():\n",
        "\n",
        "    with open(f'energy_use_data{year_month}.json', 'w', encoding='utf-8') as f:\n",
        "        f.write(response.text)\n",
        "    print(f'{year_month} 데이터 저장 성공')"
      ],
      "metadata": {
        "id": "03j1et_vv4n7",
        "outputId": "b5e4d271-85db-4b84-fadc-dd86a4d476dd",
        "colab": {
          "base_uri": "https://localhost:8080/"
        }
      },
      "execution_count": 1,
      "outputs": [
        {
          "output_type": "stream",
          "name": "stdout",
          "text": [
            "2015 01 데이터 저장 성공\n",
            "2015 02 데이터 저장 성공\n",
            "2015 03 데이터 저장 성공\n",
            "2015 04 데이터 저장 성공\n",
            "2015 05 데이터 저장 성공\n",
            "2015 06 데이터 저장 성공\n",
            "2015 07 데이터 저장 성공\n",
            "2015 08 데이터 저장 성공\n",
            "2015 09 데이터 저장 성공\n",
            "2015 10 데이터 저장 성공\n",
            "2015 11 데이터 저장 성공\n",
            "2015 12 데이터 저장 성공\n",
            "2016 01 데이터 저장 성공\n",
            "2016 02 데이터 저장 성공\n",
            "2016 03 데이터 저장 성공\n",
            "2016 04 데이터 저장 성공\n",
            "2016 05 데이터 저장 성공\n",
            "2016 06 데이터 저장 성공\n",
            "2016 07 데이터 저장 성공\n",
            "2016 08 데이터 저장 성공\n",
            "2016 09 데이터 저장 성공\n",
            "2016 10 데이터 저장 성공\n",
            "2016 11 데이터 저장 성공\n",
            "2016 12 데이터 저장 성공\n",
            "2017 01 데이터 저장 성공\n",
            "2017 02 데이터 저장 성공\n",
            "2017 03 데이터 저장 성공\n",
            "2017 04 데이터 저장 성공\n",
            "2017 05 데이터 저장 성공\n",
            "2017 06 데이터 저장 성공\n",
            "2017 07 데이터 저장 성공\n",
            "2017 08 데이터 저장 성공\n",
            "2017 09 데이터 저장 성공\n",
            "2017 10 데이터 저장 성공\n",
            "2017 11 데이터 저장 성공\n",
            "2017 12 데이터 저장 성공\n",
            "2018 01 데이터 저장 성공\n",
            "2018 02 데이터 저장 성공\n",
            "2018 03 데이터 저장 성공\n",
            "2018 04 데이터 저장 성공\n",
            "2018 05 데이터 저장 성공\n",
            "2018 06 데이터 저장 성공\n",
            "2018 07 데이터 저장 성공\n",
            "2018 08 데이터 저장 성공\n",
            "2018 09 데이터 저장 성공\n",
            "2018 10 데이터 저장 성공\n",
            "2018 11 데이터 저장 성공\n",
            "2018 12 데이터 저장 성공\n",
            "2019 01 데이터 저장 성공\n",
            "2019 02 데이터 저장 성공\n",
            "2019 03 데이터 저장 성공\n",
            "2019 04 데이터 저장 성공\n",
            "2019 05 데이터 저장 성공\n",
            "2019 06 데이터 저장 성공\n",
            "2019 07 데이터 저장 성공\n",
            "2019 08 데이터 저장 성공\n",
            "2019 09 데이터 저장 성공\n",
            "2019 10 데이터 저장 성공\n",
            "2019 11 데이터 저장 성공\n",
            "2019 12 데이터 저장 성공\n",
            "2020 01 데이터 저장 성공\n",
            "2020 02 데이터 저장 성공\n",
            "2020 03 데이터 저장 성공\n",
            "2020 04 데이터 저장 성공\n",
            "2020 05 데이터 저장 성공\n",
            "2020 06 데이터 저장 성공\n",
            "2020 07 데이터 저장 성공\n",
            "2020 08 데이터 저장 성공\n",
            "2020 09 데이터 저장 성공\n",
            "2020 10 데이터 저장 성공\n",
            "2020 11 데이터 저장 성공\n",
            "2020 12 데이터 저장 성공\n",
            "2021 01 데이터 저장 성공\n",
            "2021 02 데이터 저장 성공\n",
            "2021 03 데이터 저장 성공\n",
            "2021 04 데이터 저장 성공\n",
            "2021 05 데이터 저장 성공\n",
            "2021 06 데이터 저장 성공\n",
            "2021 07 데이터 저장 성공\n",
            "2021 08 데이터 저장 성공\n",
            "2021 09 데이터 저장 성공\n",
            "2021 10 데이터 저장 성공\n",
            "2021 11 데이터 저장 성공\n",
            "2021 12 데이터 저장 성공\n",
            "2022 01 데이터 저장 성공\n",
            "2022 02 데이터 저장 성공\n",
            "2022 03 데이터 저장 성공\n",
            "2022 04 데이터 저장 성공\n",
            "2022 05 데이터 저장 성공\n",
            "2022 06 데이터 저장 성공\n",
            "2022 07 데이터 저장 성공\n",
            "2022 08 데이터 저장 성공\n",
            "2022 09 데이터 저장 성공\n",
            "2022 10 데이터 저장 성공\n",
            "2022 11 데이터 저장 성공\n",
            "2022 12 데이터 저장 성공\n",
            "2023 01 데이터 저장 성공\n",
            "2023 02 데이터 저장 성공\n",
            "2023 03 데이터 저장 성공\n",
            "2023 04 데이터 저장 성공\n",
            "2023 05 데이터 저장 성공\n",
            "2023 06 데이터 저장 성공\n",
            "2023 07 데이터 저장 성공\n",
            "2023 08 데이터 저장 성공\n",
            "2023 09 데이터 저장 성공\n",
            "2023 10 데이터 저장 성공\n",
            "2023 11 데이터 저장 성공\n",
            "2023 12 데이터 저장 성공\n",
            "2024 01 데이터 저장 성공\n",
            "2024 02 데이터 저장 성공\n",
            "2024 03 데이터 저장 성공\n",
            "2024 04 데이터 저장 성공\n",
            "2024 05 데이터 저장 성공\n",
            "2024 06 데이터 저장 성공\n",
            "2024 07 데이터 저장 성공\n",
            "2024 08 데이터 저장 성공\n",
            "2024 09 데이터 저장 성공\n",
            "2024 10 데이터 저장 성공\n",
            "2024 11 데이터 저장 성공\n",
            "2024 12 데이터 저장 성공\n"
          ]
        }
      ]
    },
    {
      "cell_type": "markdown",
      "source": [
        "## 4-1 CSV 파일 읽기"
      ],
      "metadata": {
        "id": "-I7BVVlnRrB0"
      }
    },
    {
      "cell_type": "code",
      "source": [
        "import pandas as pd\n",
        "\n",
        "## data.csv 파일 읽기\n",
        "\n",
        "print(df)"
      ],
      "metadata": {
        "id": "2Y2HEiaiRwAI"
      },
      "execution_count": null,
      "outputs": []
    },
    {
      "cell_type": "code",
      "source": [
        "import pandas as pd\n",
        "import json\n",
        "import requests\n",
        "\n",
        "with open(f'energy_use_data{year_month}.json', 'r', encoding='utf-8') as f:\n",
        "    json_data = json.load(f)\n",
        "data = json_data['response'] ['body'] ['items']\n",
        "df = pd.DataFrame(data)\n",
        "print(df.head())"
      ],
      "metadata": {
        "id": "IY5QAYy2G8UZ",
        "outputId": "862b6312-5784-4bdf-b2b4-f67f54efa8b7",
        "colab": {
          "base_uri": "https://localhost:8080/",
          "height": 221
        }
      },
      "execution_count": 5,
      "outputs": [
        {
          "output_type": "error",
          "ename": "KeyError",
          "evalue": "'response'",
          "traceback": [
            "\u001b[0;31m---------------------------------------------------------------------------\u001b[0m",
            "\u001b[0;31mKeyError\u001b[0m                                  Traceback (most recent call last)",
            "\u001b[0;32m/tmp/ipython-input-1740332105.py\u001b[0m in \u001b[0;36m<cell line: 0>\u001b[0;34m()\u001b[0m\n\u001b[1;32m      4\u001b[0m \u001b[0;32mwith\u001b[0m \u001b[0mopen\u001b[0m\u001b[0;34m(\u001b[0m\u001b[0;34mf'energy_use_data{year_month}.json'\u001b[0m\u001b[0;34m,\u001b[0m \u001b[0;34m'r'\u001b[0m\u001b[0;34m,\u001b[0m \u001b[0mencoding\u001b[0m\u001b[0;34m=\u001b[0m\u001b[0;34m'utf-8'\u001b[0m\u001b[0;34m)\u001b[0m \u001b[0;32mas\u001b[0m \u001b[0mf\u001b[0m\u001b[0;34m:\u001b[0m\u001b[0;34m\u001b[0m\u001b[0;34m\u001b[0m\u001b[0m\n\u001b[1;32m      5\u001b[0m     \u001b[0mjson_data\u001b[0m \u001b[0;34m=\u001b[0m \u001b[0mjson\u001b[0m\u001b[0;34m.\u001b[0m\u001b[0mload\u001b[0m\u001b[0;34m(\u001b[0m\u001b[0mf\u001b[0m\u001b[0;34m)\u001b[0m\u001b[0;34m\u001b[0m\u001b[0;34m\u001b[0m\u001b[0m\n\u001b[0;32m----> 6\u001b[0;31m \u001b[0mdata\u001b[0m \u001b[0;34m=\u001b[0m \u001b[0mjson_data\u001b[0m\u001b[0;34m[\u001b[0m\u001b[0;34m'response'\u001b[0m\u001b[0;34m]\u001b[0m \u001b[0;34m[\u001b[0m\u001b[0;34m'body'\u001b[0m\u001b[0;34m]\u001b[0m \u001b[0;34m[\u001b[0m\u001b[0;34m'items'\u001b[0m\u001b[0;34m]\u001b[0m\u001b[0;34m\u001b[0m\u001b[0;34m\u001b[0m\u001b[0m\n\u001b[0m\u001b[1;32m      7\u001b[0m \u001b[0mdf\u001b[0m \u001b[0;34m=\u001b[0m \u001b[0mpd\u001b[0m\u001b[0;34m.\u001b[0m\u001b[0mDataFrame\u001b[0m\u001b[0;34m(\u001b[0m\u001b[0mdata\u001b[0m\u001b[0;34m)\u001b[0m\u001b[0;34m\u001b[0m\u001b[0;34m\u001b[0m\u001b[0m\n\u001b[1;32m      8\u001b[0m \u001b[0mprint\u001b[0m\u001b[0;34m(\u001b[0m\u001b[0mdf\u001b[0m\u001b[0;34m.\u001b[0m\u001b[0mhead\u001b[0m\u001b[0;34m(\u001b[0m\u001b[0;34m)\u001b[0m\u001b[0;34m)\u001b[0m\u001b[0;34m\u001b[0m\u001b[0;34m\u001b[0m\u001b[0m\n",
            "\u001b[0;31mKeyError\u001b[0m: 'response'"
          ]
        }
      ]
    },
    {
      "cell_type": "code",
      "source": [
        "import pandas as pd\n",
        "import json\n",
        "\n",
        "with open(f'energy_use_data{year_month}.json','r', encoding ='utf-8') as f:\n",
        "    json_text=f.read()\n",
        "\n",
        "json_data= json.loads (json_text)\n",
        "\n",
        "data = json_data['energyUseDataSummaryInfo']['row']\n",
        "\n",
        "df =pd.DataFrame(data)\n",
        "print(df.head())"
      ],
      "metadata": {
        "id": "RFUyYKs1OcQa",
        "outputId": "8ab248a6-9287-40c5-f73d-80e419a7dccb",
        "colab": {
          "base_uri": "https://localhost:8080/"
        }
      },
      "execution_count": 14,
      "outputs": [
        {
          "output_type": "stream",
          "name": "stdout",
          "text": [
            "   YEAR MON  MM_TYPE      CNT        EUS       EUS1       EUS2       ECO2_1  \\\n",
            "0  2025  01       개인  1254911  293836031  294950734  299856505   -3567588.5   \n",
            "1  2025  01     공공기관     2458  159137367  161224118  165177059   -4063221.5   \n",
            "2  2025  01  공동주택관리소     3717  549306970  553171963  562732975     -8645499   \n",
            "3  2025  01       기업    19458  624104890  643139445  659133378  -27031521.5   \n",
            "4  2025  01     소상공인    53019  111945712  114049923  120313258   -5235878.5   \n",
            "\n",
            "         ECO2_2       GUS  ...        WUS1        WUS2      WCO2_1  \\\n",
            "0  -3390415.508  64743317  ...  14349702.2  14658723.9  -213962.15   \n",
            "1    -4063221.5   5245062  ...   1067063.3   1048332.2    51799.15   \n",
            "2      -8645499  12897492  ...  19813169.6  19835823.1   -76958.15   \n",
            "3   -27031521.5  58727315  ...   4177674.4   4187370.8     32779.6   \n",
            "4  -5237135.908   3102284  ...   1363196.9   1397802.9     10022.3   \n",
            "\n",
            "        WCO2_2          HUS          HUS1          HUS2        HCO2_1  \\\n",
            "0  -343069.116  26079633.15  26915271.488  28567284.736  -1661644.962   \n",
            "1    155397.45            0             0             0             0   \n",
            "2   -230874.45            0             0             0             0   \n",
            "3      98338.8            0             0             0             0   \n",
            "4     29960.18      3087.55       2659.77       2832.88       341.225   \n",
            "\n",
            "               HCO2_2               REG_DATE  \n",
            "0  -1825469.852831888  2025-04-01 04:02:46.0  \n",
            "1                   0  2025-04-01 04:02:46.0  \n",
            "2                   0  2025-04-01 04:02:46.0  \n",
            "3                   0  2025-04-01 04:02:46.0  \n",
            "4         -607.186672  2025-04-01 04:02:46.0  \n",
            "\n",
            "[5 rows x 25 columns]\n"
          ]
        }
      ]
    },
    {
      "cell_type": "code",
      "source": [
        "import pandas as pd\n",
        "import json\n",
        "\n",
        "df_list = []  # 각 DataFrame을 저장할 리스트\n",
        "\n",
        "# 2015년 1월부터 2024년 12월까지 반복\n",
        "for year in range(2015, 2024+1):\n",
        "    for month in range(1, 12+1):\n",
        "        year_month = f'{year} {month:02d}'  # 공백 추가!\n",
        "\n",
        "        try:\n",
        "            with open(f'energy_use_data{year_month}.json', 'r', encoding='utf-8') as f:\n",
        "                json_text = f.read()\n",
        "\n",
        "            json_data = json.loads(json_text)\n",
        "            data = json_data['energyUseDataSummaryInfo']['row']\n",
        "            df = pd.DataFrame(data)\n",
        "            df_list.append(df)\n",
        "\n",
        "            print(f'{year_month} 데이터 로드 성공')\n",
        "        except FileNotFoundError:\n",
        "            print(f'{year_month} 파일 없음')"
      ],
      "metadata": {
        "id": "5nOtx7cLQCvm",
        "outputId": "f2a72f98-4ce1-418f-e1d3-4b61b7498b2a",
        "colab": {
          "base_uri": "https://localhost:8080/"
        }
      },
      "execution_count": 9,
      "outputs": [
        {
          "output_type": "stream",
          "name": "stdout",
          "text": [
            "2015 01 데이터 로드 성공\n",
            "2015 02 데이터 로드 성공\n",
            "2015 03 데이터 로드 성공\n",
            "2015 04 데이터 로드 성공\n",
            "2015 05 데이터 로드 성공\n",
            "2015 06 데이터 로드 성공\n",
            "2015 07 데이터 로드 성공\n",
            "2015 08 데이터 로드 성공\n",
            "2015 09 데이터 로드 성공\n",
            "2015 10 데이터 로드 성공\n",
            "2015 11 데이터 로드 성공\n",
            "2015 12 데이터 로드 성공\n",
            "2016 01 데이터 로드 성공\n",
            "2016 02 데이터 로드 성공\n",
            "2016 03 데이터 로드 성공\n",
            "2016 04 데이터 로드 성공\n",
            "2016 05 데이터 로드 성공\n",
            "2016 06 데이터 로드 성공\n",
            "2016 07 데이터 로드 성공\n",
            "2016 08 데이터 로드 성공\n",
            "2016 09 데이터 로드 성공\n",
            "2016 10 데이터 로드 성공\n",
            "2016 11 데이터 로드 성공\n",
            "2016 12 데이터 로드 성공\n",
            "2017 01 데이터 로드 성공\n",
            "2017 02 데이터 로드 성공\n",
            "2017 03 데이터 로드 성공\n",
            "2017 04 데이터 로드 성공\n",
            "2017 05 데이터 로드 성공\n",
            "2017 06 데이터 로드 성공\n",
            "2017 07 데이터 로드 성공\n",
            "2017 08 데이터 로드 성공\n",
            "2017 09 데이터 로드 성공\n",
            "2017 10 데이터 로드 성공\n",
            "2017 11 데이터 로드 성공\n",
            "2017 12 데이터 로드 성공\n",
            "2018 01 데이터 로드 성공\n",
            "2018 02 데이터 로드 성공\n",
            "2018 03 데이터 로드 성공\n",
            "2018 04 데이터 로드 성공\n",
            "2018 05 데이터 로드 성공\n",
            "2018 06 데이터 로드 성공\n",
            "2018 07 데이터 로드 성공\n",
            "2018 08 데이터 로드 성공\n",
            "2018 09 데이터 로드 성공\n",
            "2018 10 데이터 로드 성공\n",
            "2018 11 데이터 로드 성공\n",
            "2018 12 데이터 로드 성공\n",
            "2019 01 데이터 로드 성공\n",
            "2019 02 데이터 로드 성공\n",
            "2019 03 데이터 로드 성공\n",
            "2019 04 데이터 로드 성공\n",
            "2019 05 데이터 로드 성공\n",
            "2019 06 데이터 로드 성공\n",
            "2019 07 데이터 로드 성공\n",
            "2019 08 데이터 로드 성공\n",
            "2019 09 데이터 로드 성공\n",
            "2019 10 데이터 로드 성공\n",
            "2019 11 데이터 로드 성공\n",
            "2019 12 데이터 로드 성공\n",
            "2020 01 데이터 로드 성공\n",
            "2020 02 데이터 로드 성공\n",
            "2020 03 데이터 로드 성공\n",
            "2020 04 데이터 로드 성공\n",
            "2020 05 데이터 로드 성공\n",
            "2020 06 데이터 로드 성공\n",
            "2020 07 데이터 로드 성공\n",
            "2020 08 데이터 로드 성공\n",
            "2020 09 데이터 로드 성공\n",
            "2020 10 데이터 로드 성공\n",
            "2020 11 데이터 로드 성공\n",
            "2020 12 데이터 로드 성공\n",
            "2021 01 데이터 로드 성공\n",
            "2021 02 데이터 로드 성공\n",
            "2021 03 데이터 로드 성공\n",
            "2021 04 데이터 로드 성공\n",
            "2021 05 데이터 로드 성공\n",
            "2021 06 데이터 로드 성공\n",
            "2021 07 데이터 로드 성공\n",
            "2021 08 데이터 로드 성공\n",
            "2021 09 데이터 로드 성공\n",
            "2021 10 데이터 로드 성공\n",
            "2021 11 데이터 로드 성공\n",
            "2021 12 데이터 로드 성공\n",
            "2022 01 데이터 로드 성공\n",
            "2022 02 데이터 로드 성공\n",
            "2022 03 데이터 로드 성공\n",
            "2022 04 데이터 로드 성공\n",
            "2022 05 데이터 로드 성공\n",
            "2022 06 데이터 로드 성공\n",
            "2022 07 데이터 로드 성공\n",
            "2022 08 데이터 로드 성공\n",
            "2022 09 데이터 로드 성공\n",
            "2022 10 데이터 로드 성공\n",
            "2022 11 데이터 로드 성공\n",
            "2022 12 데이터 로드 성공\n",
            "2023 01 데이터 로드 성공\n",
            "2023 02 데이터 로드 성공\n",
            "2023 03 데이터 로드 성공\n",
            "2023 04 데이터 로드 성공\n",
            "2023 05 데이터 로드 성공\n",
            "2023 06 데이터 로드 성공\n",
            "2023 07 데이터 로드 성공\n",
            "2023 08 데이터 로드 성공\n",
            "2023 09 데이터 로드 성공\n",
            "2023 10 데이터 로드 성공\n",
            "2023 11 데이터 로드 성공\n",
            "2023 12 데이터 로드 성공\n",
            "2024 01 데이터 로드 성공\n",
            "2024 02 데이터 로드 성공\n",
            "2024 03 데이터 로드 성공\n",
            "2024 04 데이터 로드 성공\n",
            "2024 05 데이터 로드 성공\n",
            "2024 06 데이터 로드 성공\n",
            "2024 07 데이터 로드 성공\n",
            "2024 08 데이터 로드 성공\n",
            "2024 09 데이터 로드 성공\n",
            "2024 10 데이터 로드 성공\n",
            "2024 11 데이터 로드 성공\n",
            "2024 12 데이터 로드 성공\n"
          ]
        }
      ]
    },
    {
      "cell_type": "markdown",
      "source": [
        "## 4-2 JSON 파일 읽기\n",
        "\n"
      ],
      "metadata": {
        "id": "9kHCFaGlRrE0"
      }
    },
    {
      "cell_type": "code",
      "source": [
        "import json\n",
        "import pandas as pd\n",
        "\n",
        "## data.json 파일 출력\n",
        "\n",
        "## data.json 파일 DataFrame 읽기\n",
        "\n",
        "print(df)"
      ],
      "metadata": {
        "id": "IO8bsKekR0W_"
      },
      "execution_count": null,
      "outputs": []
    },
    {
      "cell_type": "markdown",
      "source": [
        "## 4-3 텍스트 파일 읽기 및 데이터 추출"
      ],
      "metadata": {
        "id": "uLd_3A_IRrHG"
      }
    },
    {
      "cell_type": "code",
      "source": [
        "import re\n",
        "\n",
        "## 파일(callcenter20250301.log) 오픈 및 읽기\n",
        "with open('callcenter20250301.log', 'r', encoding='utf-8') as f:\n",
        "    content = f.read()\n",
        "## 주민등록번호 패턴 생성\n",
        "\n",
        "## 주민등록번호 마스킹\n",
        "\n",
        "\n",
        "## 마스킹된 파일(callcenter20250301_masked.log) 오픈 및 쓰기\n",
        "\n",
        "\n",
        "print(\"주민등록번호 마스킹 완료. 'callcenter20250301_masked.log.txt' 파일로 저장되었습니다.\")"
      ],
      "metadata": {
        "id": "60qOf7uxVdAg"
      },
      "execution_count": null,
      "outputs": []
    },
    {
      "cell_type": "markdown",
      "source": [
        "## 4-4 Open-Meteo의 무료 날씨 API를 통한 특정 지역 온도 조회"
      ],
      "metadata": {
        "id": "eOMufu5SXiAU"
      }
    },
    {
      "cell_type": "code",
      "source": [
        "import requests\n",
        "import json\n",
        "\n",
        "url = \"https://api.open-meteo.com/v1/forecast?=&=&current=temperature_2m\"\n",
        "params = {\n",
        "    \"latitude\": \"37.58638333\",\n",
        "    \"longitude\": \"127.0203333\",\n",
        "    \"current\": \"temperature_2m\"\n",
        "}\n",
        "\n",
        "try:\n",
        "    ## URL 및 파라미터 전송\n",
        "\n",
        "    ## JSON 데이터 읽기\n",
        "\n",
        "    print(\"API 응답:\", data)\n",
        "    print(\"서울시 종로구의 현재 온도는 : {0}{1} 입니다.\".format(data['current']['temperature_2m'], data['current_units']['temperature_2m']))\n",
        "\n",
        "except requests.exceptions.RequestException as e:\n",
        "    print(f\"API 호출 실패: {e}\")\n",
        "except json.JSONDecodeError as e:\n",
        "    print(f\"JSON 파싱 실패: {e}\")"
      ],
      "metadata": {
        "id": "JpmgdsW9V0CY"
      },
      "execution_count": null,
      "outputs": []
    },
    {
      "cell_type": "markdown",
      "source": [
        "## 4-5 Selenium과 lxml을 이용한 웹 스크래핑"
      ],
      "metadata": {
        "id": "RLfPaa1ZiqIC"
      }
    },
    {
      "cell_type": "code",
      "source": [
        "!curl -o google-chrome-stable_current_amd64.deb https://dl.google.com/linux/direct/google-chrome-stable_current_amd64.deb\n",
        "!apt install ./google-chrome-stable_current_amd64.deb -y\n",
        "!pip install selenium webdriver_manager"
      ],
      "metadata": {
        "id": "79dmM7MNk8pB"
      },
      "execution_count": null,
      "outputs": []
    },
    {
      "cell_type": "code",
      "source": [
        "from selenium import webdriver\n",
        "from selenium.webdriver.chrome.service import Service as ChromeService\n",
        "from webdriver_manager.chrome import ChromeDriverManager\n",
        "from selenium.webdriver.common.by import By\n",
        "from lxml import html\n",
        "import time\n",
        "\n",
        "chrome_options = webdriver.ChromeOptions()\n",
        "chrome_options.add_argument('--headless')               # 브라우저 창 없이 실행\n",
        "chrome_options.add_argument('--no-sandbox')             # 보안모드 비활성화 (Colab 필수)\n",
        "chrome_options.add_argument('--disable-dev-shm-usage')  # 메모리 부족 방지 (Colab 필수)\n",
        "chrome_options.add_argument('--window-size=1920x1080')  # 창 크기 설정(가상)\n",
        "chrome_options.add_argument('--disable-gpu')            # GPU 가속 비활성화 (일부 환경 안정성)\n",
        "chrome_options.binary_location = \"/usr/bin/google-chrome-stable\"  # Colab용 크롬 경로 지정\n",
        "\n",
        "## 드라이버 실행\n",
        "driver = webdriver.Chrome(options=chrome_options)\n",
        "\n",
        "## 사이트 접속\n",
        "\n",
        "\n",
        "## 사이트 접속 대기\n",
        "\n",
        "\n",
        "## 페이지 제목 출력\n",
        "\n",
        "\n",
        "## 드라이버 종료\n",
        "driver.quit()"
      ],
      "metadata": {
        "id": "cRC8x3_iW0im"
      },
      "execution_count": null,
      "outputs": []
    },
    {
      "cell_type": "markdown",
      "source": [
        "\n",
        "# 실습 시나리오"
      ],
      "metadata": {
        "id": "Bu6OMZyGirOq"
      }
    },
    {
      "cell_type": "markdown",
      "source": [
        "## 공공데이터 포털 가입 및 데이터 신청\n",
        "\n",
        "- [https://www.data.go.kr](https://www.data.go.kr)\n",
        "- 한국환경공단 에어코리아 대기오염정보 데이터 신청"
      ],
      "metadata": {
        "id": "nsuqRN9RkZlW"
      }
    },
    {
      "cell_type": "code",
      "source": [
        "import requests\n",
        "\n",
        "## 데이터 수집 url 및 api key 설정\n",
        "\n",
        "\n",
        "params = {\n",
        "    'serviceKey': api_key,\n",
        "    'returnType': 'json',\n",
        "    'numOfRows': '100',\n",
        "    'pageNo': '1',\n",
        "    'sidoName': '서울',\n",
        "    'ver': '1.0'\n",
        "}\n",
        "\n",
        "## 데이터 수집\n",
        "\n",
        "## 호출 성공/실패 출력\n",
        "\n"
      ],
      "metadata": {
        "id": "7yCozmQeXJcO"
      },
      "execution_count": null,
      "outputs": []
    }
  ]
}